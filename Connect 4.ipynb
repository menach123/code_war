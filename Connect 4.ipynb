{
 "cells": [
  {
   "cell_type": "markdown",
   "metadata": {},
   "source": [
    "### Introduction\n",
    "We all love to play games especially as children. I have fond memories playing Connect 4 with my brother so decided to create this Kata based on the classic game. Connect 4 is known as several names such as “Four in a Row” and “Captain’s Mistress\" but was made popular by Hasbro MB Games\n",
    "### Task\n",
    "The game consists of a grid (7 columns and 6 rows) and two players that take turns to drop their discs. The pieces fall straight down, occupying the next available space within the column. The objective of the game is to be the first to form a horizontal, vertical, or diagonal line of four of one's own discs.\n",
    "Your task is to create a Class called Connect4 that has a method called play which takes one argument for the column where the player is going to place their disc.\n",
    "### Rules\n",
    "If a player successfully has 4 discs horizontally, vertically or diagonally then you should return \"Player n wins!” where n is the current player either 1 or 2.\n",
    "\n",
    "If a player attempts to place a disc in a column that is full then you should return ”Column full!” and the next move must be taken by the same player.\n",
    "\n",
    "If the game has been won by a player, any following moves should return ”Game has finished!”.\n",
    "\n",
    "Any other move should return ”Player n has a turn” where n is the current player either 1 or 2.\n",
    "\n",
    "Player 1 starts the game every time and alternates with player 2.\n",
    "\n",
    "The columns are numbered 0-6 left to right.\n",
    "\n",
    "https://www.codewars.com/kata/586c0909c1923fdb89002031/train/python\n"
   ]
  },
  {
   "cell_type": "code",
   "execution_count": 1,
   "metadata": {
    "scrolled": true
   },
   "outputs": [],
   "source": [
    "import numpy as np\n",
    "\n",
    "class Connect4():\n",
    "\n",
    "    def __init__(self):\n",
    "        \"\"\"\n",
    "        Initialize Connect 4 board with  Numpy array, matrix.\n",
    "        0 is an empty position. \n",
    "        1 is player 1.\n",
    "        -1 is player 2.\n",
    "        Current player: player 1- True and player 2 is False\n",
    "        \"\"\"\n",
    "        self.matrix = np.array([[0 for i in range(7)] for j in range(6)])\n",
    "        self.current_player = True; \n",
    "        pass\n",
    "    \n",
    "    def play(self, col):\n",
    "        \"\"\"\n",
    "        Place piece is in designated column, running checks on game\n",
    "        \"\"\"\n",
    "        \n",
    "        \n",
    "#       Check to see if column select is out of range\n",
    "        if col >6:\n",
    "            print('Out of range')\n",
    "            return \n",
    "        if  col<0:\n",
    "            print('Out of range')\n",
    "            return \n",
    "        \n",
    "#         Checking the see if there four in row in any direction\n",
    "        check = [self.check(self.matrix), # checking the horizontal\n",
    "                 self.check(self.matrix.transpose()), #checking the vertical\n",
    "                 self.check([np.diag(self.matrix, i) for i in range(-7,8)]), # checking diagonal from one side \n",
    "                 self.check([np.diag(self.matrix[::-1],i) for i in range(-7,8)])]# checking diagonal from the other side\n",
    "        if sum(check) >0:\n",
    "            return 'Game has finished!'\n",
    "        \n",
    "#       Check to see if selected column is full, placing the piece in the lowest possible postion.\n",
    "        if self.matrix[0][col] != 0:\n",
    "            return 'Column full!'\n",
    "        \n",
    "        for i in range(1, 7):\n",
    "            if self.matrix[-i][col] == 0:\n",
    "                self.current_player = not self.current_player; \n",
    "                self.matrix[-i][col] = -1 if self.current_player else 1 \n",
    "                player_number = 2 if self.current_player else 1\n",
    "                break\n",
    "\n",
    "#         Checking the see if there four in row in any direction, indicating if the last player one or pass to the next \n",
    "#         player.    \n",
    "        check = [self.check(self.matrix), # checking the horizontal\n",
    "                 self.check(self.matrix.transpose()), #checking the vertical\n",
    "                 self.check([np.diag(self.matrix, i) for i in range(-7,8)]), # checking diagonal from one side \n",
    "                 self.check([np.diag(self.matrix[::-1],i) for i in range(-7,8)])]# checking diagonal from the other side\n",
    "        if sum(check) >0:\n",
    "            return f'Player {player_number} wins!'\n",
    "        else:\n",
    "            return f'Player {player_number} has a turn'\n",
    "\n",
    "\n",
    "    def check(self, matrix):\n",
    "        \"\"\"\n",
    "        Checking input list to see if there is four in row.\n",
    "        \"\"\"\n",
    "        for row in matrix:\n",
    "            row = (row == -1)*1 # looking at player 1 pieces\n",
    "\n",
    "            if sum(row)>=4:\n",
    "                for i in range(len(row)):\n",
    "                    if sum(row[i:i+4]) == 4:# looking four in row\n",
    "                        return True\n",
    "            for row in matrix:\n",
    "                row = (row == 1)*1# looking at player 2 pieces\n",
    "\n",
    "                if sum(row)>=4:\n",
    "                    for i in range(len(row)):\n",
    "                        if sum(row[i:i+4]) == 4:# looking four in row\n",
    "                            return True\n",
    "\n",
    "        return False\n",
    "    \n",
    "    \n",
    "                \n",
    "        \n",
    "        \n",
    "        \n",
    "\n",
    "\n",
    "                \n",
    "        "
   ]
  },
  {
   "cell_type": "code",
   "execution_count": 2,
   "metadata": {
    "scrolled": true
   },
   "outputs": [
    {
     "name": "stdout",
     "output_type": "stream",
     "text": [
      "Player 1 has a turn Player 1 has a turn\n",
      "Player 2 has a turn Player 2 has a turn\n",
      "Player 1 has a turn Player 1 has a turn\n",
      "Player 2 has a turn Player 2 has a turn\n",
      "Player 1 has a turn Player 1 has a turn\n",
      "Player 2 has a turn Player 2 has a turn\n",
      "Player 1 wins! Player 1 wins!\n",
      "Game has finished! Game has finished!\n"
     ]
    }
   ],
   "source": [
    "game = Connect4()\n",
    "\n",
    "print(game.play(1), \"Player 1 has a turn\")\n",
    "\n",
    "print(game.play(1), \"Player 2 has a turn\")\n",
    "\n",
    "print(game.play(2), \"Player 1 has a turn\")\n",
    "\n",
    "print(game.play(2), \"Player 2 has a turn\")\n",
    "\n",
    "print(game.play(3), \"Player 1 has a turn\")\n",
    "\n",
    "print(game.play(3), \"Player 2 has a turn\")\n",
    "\n",
    "print(game.play(4), \"Player 1 wins!\")\n",
    "\n",
    "print(game.play(4), \"Game has finished!\")\n",
    "\n",
    "\n"
   ]
  },
  {
   "cell_type": "code",
   "execution_count": 3,
   "metadata": {},
   "outputs": [],
   "source": [
    "a = [[ 0, 0, 0, 0, 0, 0, 0],\n",
    " [ 0, 0, 0, 0, 0, 0, 0],\n",
    " [ 0, 0, 0, 0, 0, 0, 1],\n",
    " [ 0, 0, 0, 0, 0, 1, 1],\n",
    " [ 0, 0, 0, 0, 1, -1, -1],\n",
    " [ 0, 0, -1, 1, -1, 1, -1]]\n",
    "a = np.array([np.array(i) for i in a])\n"
   ]
  },
  {
   "cell_type": "code",
   "execution_count": 4,
   "metadata": {},
   "outputs": [],
   "source": [
    "game.matrix = a"
   ]
  },
  {
   "cell_type": "code",
   "execution_count": 5,
   "metadata": {
    "scrolled": true
   },
   "outputs": [
    {
     "data": {
      "text/plain": [
       "'Game has finished!'"
      ]
     },
     "execution_count": 5,
     "metadata": {},
     "output_type": "execute_result"
    }
   ],
   "source": [
    "game.play(1)"
   ]
  },
  {
   "cell_type": "code",
   "execution_count": 6,
   "metadata": {},
   "outputs": [
    {
     "name": "stderr",
     "output_type": "stream",
     "text": [
      "From https://github.com/menach123/code_war\n",
      " * branch            master     -> FETCH_HEAD\n",
      "   25d1606..d3720ac  master     -> origin/master\n",
      "error: unable to create file Who likes it?.ipynb: Invalid argument\n"
     ]
    }
   ],
   "source": [
    "!git pull origin master"
   ]
  },
  {
   "cell_type": "code",
   "execution_count": null,
   "metadata": {},
   "outputs": [],
   "source": []
  }
 ],
 "metadata": {
  "kernelspec": {
   "display_name": "Python 3",
   "language": "python",
   "name": "python3"
  },
  "language_info": {
   "codemirror_mode": {
    "name": "ipython",
    "version": 3
   },
   "file_extension": ".py",
   "mimetype": "text/x-python",
   "name": "python",
   "nbconvert_exporter": "python",
   "pygments_lexer": "ipython3",
   "version": "3.6.6"
  }
 },
 "nbformat": 4,
 "nbformat_minor": 2
}
