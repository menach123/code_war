{
  "nbformat": 4,
  "nbformat_minor": 0,
  "metadata": {
    "colab": {
      "name": "Polydivisible Numbers.ipynb",
      "provenance": [],
      "authorship_tag": "ABX9TyNpQ6Kd84pK/lebKWoEK0Di",
      "include_colab_link": true
    },
    "kernelspec": {
      "name": "python3",
      "display_name": "Python 3"
    }
  },
  "cells": [
    {
      "cell_type": "markdown",
      "metadata": {
        "id": "view-in-github",
        "colab_type": "text"
      },
      "source": [
        "<a href=\"https://colab.research.google.com/github/menach123/code_war/blob/master/Polydivisible_Numbers.ipynb\" target=\"_parent\"><img src=\"https://colab.research.google.com/assets/colab-badge.svg\" alt=\"Open In Colab\"/></a>"
      ]
    },
    {
      "cell_type": "markdown",
      "metadata": {
        "id": "vUqqsdS1eJFc",
        "colab_type": "text"
      },
      "source": [
        "#### Background\n",
        "I was reading a book recently, \"Things to Make and Do in the Fourth Dimension\" by comedian and mathematician Matt Parker, and in the first chapter of the book Matt talks about problems he likes to solve in his head to take his mind off the fact that he is in his dentist's chair, we've all been there!\n",
        "\n",
        "The problem he talks about relates to polydivisible numbers, and I thought a kata should be written on the subject as it's quite interesting. (Well it's interesting to me, so there!)\n",
        "\n",
        "#### Polydivisib... huh what?\n",
        "So what are they?\n",
        "\n",
        "A polydivisible number is divisible in an unusual way. The first digit is cleanly divisible by 1, the first two digits are cleanly divisible by 2, the first three by 3 and so on.\n",
        "\n",
        "The interesting thing about polydivisiblity is that it relates to the underlying number, but not the base it is written in, so if aliens came to Earth and used base 23 (11 fingers on one hand and 12 on the other), no matter what squiggles they use to write numbers, they would find the same numbers polydivisible!\n",
        "\n",
        "Polydivisibilty Example:\n",
        "Let's do a worked example to clear up any questions ...\n",
        "\n",
        "Starting wih the number 1,232 in base 10 then:\n",
        "```\n",
        " 1232\n",
        " 1    /1 = 1    Yay!\n",
        " 12   /2 = 6    Yay!\n",
        " 123  /3 = 41   Yay!\n",
        " 1232 /4 = 308  Yay!\n",
        " ```\n",
        "Thus 1,232 is a polydivisible number in base 4 and above.\n",
        "\n",
        "However starting wih the number 123,220 and using base 10 then:\n",
        "```\n",
        " 123220\n",
        " 1      /1 = 1            Yay!\n",
        " 12     /2 = 6            Yay!\n",
        " 123    /3 = 41           Yay!\n",
        " 1232   /4 = 308          Yay!\n",
        " 12322  /5 = 2464.4       Oh no, that's not a round number!\n",
        " 123220 /6 = 220536.333r  Oh no, that's not a round number!\n",
        "```\n",
        "Thus 123,220 is not a polydivisible base 10 number, but what about in another base?\n",
        "\n",
        "Again starting wih the number 123,220 and using base 6 then:\n",
        "```\n",
        " base 6   base 10\n",
        " 1      = 1       -> 1     /1 = 1     Yay!\n",
        " 12     = 8       -> 8     /2 = 4     Yay!\n",
        " 123    = 51      -> 51    /3 = 17    Yay!\n",
        " 1232   = 308     -> 308   /4 = 77    Yay!\n",
        " 12322  = 1850    -> 1850  /5 = 370   Yay!\n",
        " 123220 = 11100   -> 11100 /6 = 1850  Yay!\n",
        "```\n",
        "Thus 123,220 is a polydivisible base 6 number (and a polydivisible base 10 number when converted to 11100 in base 10).\n",
        "\n",
        "#### Kata\n",
        "In this kata you must implement two methods: is_polydivisible(n, b) and get_polydivisible(n, b).\n",
        "\n",
        "The first is_polydivisible(n, b) will return True if n is polydivisible in base b or False if not.\n",
        "\n",
        "The second get_polydivisible(n, b) will return the nth polydivisible number using base b, the first polydivisible number is of course always 0.\n",
        "\n",
        "You can assume that all inputs are valid.\n",
        "\n",
        "#### Kata Examples:\n",
        "```\n",
        "    is_polydivisible(\"1232\", 10)   # => True\n",
        "    is_polydivisible(\"123220\", 10) # => False\n",
        "    is_polydivisible(\"123220\", 6)  # => True\n",
        "    get_polydivisible(22, 10)      # => \"32\"\n",
        "    get_polydivisible(22, 16)      # => \"1A\"\n",
        "    get_polydivisible(42, 16)      # => \"42\"\n",
        "```\n",
        "\n",
        "#### A Note on Bases\n",
        "The maximum base used is base 62, and uses characters in the following order [0-9][A-Z][a-z] to denote its digits, base n will use the first n characters of this sequence.\n",
        "\n",
        "A constant CHARS has been declared with this sequence for you.\n",
        "\n"
      ]
    },
    {
      "cell_type": "code",
      "metadata": {
        "id": "niDK19xGFspy",
        "colab_type": "code",
        "colab": {}
      },
      "source": [
        "CHARS=\"0123456789ABCDEFGHIJKLMNOPQRSTUVWXYZabcdefghijklmnopqrstuvwxyz\"\n",
        "dict_CHARS = {CHARS[i]:i for i in range(len(CHARS))}\n",
        "\n",
        "\n",
        "\n",
        "def is_polydivisible(n, b):\n",
        "    for i in range(len(n)):\n",
        "        number = n[:i+1]\n",
        "        base = sum([dict_CHARS[number[-i]]* b**(i-1) for i in range(1, len(number)+1)])\n",
        "        if base% (i+1) != 0:\n",
        "            return False\n",
        "    return True\n",
        "\n",
        "def makeDigit(number, b):\n",
        "    check = b+10\n",
        "    expon = 1\n",
        "    while check > b:\n",
        "        \n",
        "        base = b** expon\n",
        "        check = number// base\n",
        "        mod =  number% base\n",
        "        expon += 1\n",
        "    return check , mod, base\n",
        "\n",
        "def convertToBaseNumber(n,b):\n",
        "    check = 100\n",
        "    expon = 1\n",
        "    emp = []\n",
        "    while check != b:\n",
        "        n, rem, check = makeDigit(n, b)\n",
        "        emp.append(n)\n",
        "        print(check)\n",
        "    emp.append(rem)\n",
        "    return ''.join([CHARS[i] for i in emp])\n",
        "\n",
        "def get_polydivisible(n, b):\n",
        "\n",
        "    while n<10000:\n",
        "        n += 1\n",
        "        number = convertToBaseNumber(n,b)\n",
        "        print(number)\n",
        "        string = str(n)\n",
        "        if is_polydivisible(string,b):\n",
        "            return number\n",
        "        \n",
        "\n",
        "    return None\n"
      ],
      "execution_count": 71,
      "outputs": []
    },
    {
      "cell_type": "markdown",
      "metadata": {
        "id": "uytjhZhfeFMq",
        "colab_type": "text"
      },
      "source": [
        ""
      ]
    },
    {
      "cell_type": "code",
      "metadata": {
        "id": "xO9sxoeXGb1_",
        "colab_type": "code",
        "colab": {
          "base_uri": "https://localhost:8080/",
          "height": 34
        },
        "outputId": "8933efee-925e-4520-ad35-09980e40cebe"
      },
      "source": [
        "is_polydivisible(\"1232\", 10)"
      ],
      "execution_count": 56,
      "outputs": [
        {
          "output_type": "execute_result",
          "data": {
            "text/plain": [
              "True"
            ]
          },
          "metadata": {
            "tags": []
          },
          "execution_count": 56
        }
      ]
    },
    {
      "cell_type": "code",
      "metadata": {
        "id": "Jcsx16zZGfLR",
        "colab_type": "code",
        "colab": {
          "base_uri": "https://localhost:8080/",
          "height": 34
        },
        "outputId": "28fe7715-f8ef-416e-aec3-007803d74b5f"
      },
      "source": [
        "is_polydivisible(\"123220\", 10)"
      ],
      "execution_count": 57,
      "outputs": [
        {
          "output_type": "execute_result",
          "data": {
            "text/plain": [
              "False"
            ]
          },
          "metadata": {
            "tags": []
          },
          "execution_count": 57
        }
      ]
    },
    {
      "cell_type": "code",
      "metadata": {
        "id": "TTTTU-nmG6CJ",
        "colab_type": "code",
        "colab": {
          "base_uri": "https://localhost:8080/",
          "height": 34
        },
        "outputId": "3fe710da-736e-44d6-8bc5-b3faa8ec7318"
      },
      "source": [
        "is_polydivisible(\"123220\", 6)"
      ],
      "execution_count": 58,
      "outputs": [
        {
          "output_type": "execute_result",
          "data": {
            "text/plain": [
              "True"
            ]
          },
          "metadata": {
            "tags": []
          },
          "execution_count": 58
        }
      ]
    },
    {
      "cell_type": "code",
      "metadata": {
        "id": "v_dHJvHTQr79",
        "colab_type": "code",
        "colab": {
          "base_uri": "https://localhost:8080/",
          "height": 105
        },
        "outputId": "59b24234-11a2-4d22-a7e3-5af52df90c57"
      },
      "source": [
        "get_polydivisible(22, 10)"
      ],
      "execution_count": 72,
      "outputs": [
        {
          "output_type": "stream",
          "text": [
            "10\n",
            "23\n",
            "10\n",
            "24\n"
          ],
          "name": "stdout"
        },
        {
          "output_type": "execute_result",
          "data": {
            "text/plain": [
              "'24'"
            ]
          },
          "metadata": {
            "tags": []
          },
          "execution_count": 72
        }
      ]
    },
    {
      "cell_type": "code",
      "metadata": {
        "id": "TjV1m-QoUMCA",
        "colab_type": "code",
        "colab": {
          "base_uri": "https://localhost:8080/",
          "height": 70
        },
        "outputId": "4fc4a321-bfa0-48e1-a000-e1239b2d9188"
      },
      "source": [
        "is_polydivisible('22', 10)"
      ],
      "execution_count": 70,
      "outputs": [
        {
          "output_type": "stream",
          "text": [
            "0\n",
            "0\n"
          ],
          "name": "stdout"
        },
        {
          "output_type": "execute_result",
          "data": {
            "text/plain": [
              "True"
            ]
          },
          "metadata": {
            "tags": []
          },
          "execution_count": 70
        }
      ]
    },
    {
      "cell_type": "code",
      "metadata": {
        "id": "_CJK9g5MVXIa",
        "colab_type": "code",
        "colab": {
          "base_uri": "https://localhost:8080/",
          "height": 34
        },
        "outputId": "0a7d4287-4c63-4e27-9928-960a536e58ac"
      },
      "source": [
        "CHARS[0]\n"
      ],
      "execution_count": 41,
      "outputs": [
        {
          "output_type": "execute_result",
          "data": {
            "text/plain": [
              "'0'"
            ]
          },
          "metadata": {
            "tags": []
          },
          "execution_count": 41
        }
      ]
    },
    {
      "cell_type": "code",
      "metadata": {
        "id": "-nGmRWMwWDJj",
        "colab_type": "code",
        "colab": {
          "base_uri": "https://localhost:8080/",
          "height": 52
        },
        "outputId": "4be0ef7c-0bba-4124-ca17-0e8b67b0afa9"
      },
      "source": [
        "makeDigit(, b)"
      ],
      "execution_count": 17,
      "outputs": [
        {
          "output_type": "stream",
          "text": [
            "f\n"
          ],
          "name": "stdout"
        },
        {
          "output_type": "execute_result",
          "data": {
            "text/plain": [
              "(6, 2, 16)"
            ]
          },
          "metadata": {
            "tags": []
          },
          "execution_count": 17
        }
      ]
    },
    {
      "cell_type": "code",
      "metadata": {
        "id": "yVjdw62wWhLe",
        "colab_type": "code",
        "colab": {}
      },
      "source": [
        ""
      ],
      "execution_count": null,
      "outputs": []
    }
  ]
}