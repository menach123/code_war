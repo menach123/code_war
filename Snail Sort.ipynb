{
 "cells": [
  {
   "cell_type": "markdown",
   "metadata": {},
   "source": [
    "### Snail Sort\n",
    "\n",
    "https://www.codewars.com/kata/521c2db8ddc89b9b7a0000c1/train/python\n",
    "\n",
    "Given an n x n array, return the array elements arranged from outermost elements to the middle element, traveling clockwise.\n",
    "\n",
    "```python\n",
    "array = [[1,2,3],\n",
    "         [4,5,6],\n",
    "         [7,8,9]]\n",
    "snail(array) #=> [1,2,3,6,9,8,7,4,5]\n",
    "```\n",
    "\n",
    "For better understanding, please follow the numbers of the next array consecutively:\n",
    "```python\n",
    "array = [[1,2,3],\n",
    "         [8,9,4],\n",
    "         [7,6,5]]\n",
    "snail(array) #=> [1,2,3,4,5,6,7,8,9]\n",
    "```\n",
    "\n",
    "This image will illustrate things more clearly:\n",
    "\n",
    "![](snail.png)\n",
    "\n",
    "NOTE: The idea is not sort the elements from the lowest value to the highest; the idea is to traverse the 2-d array in a clockwise snailshell pattern.\n",
    "\n",
    "NOTE 2: The 0x0 (empty matrix) is represented as en empty array inside an array ```[[]]```.\n",
    "\n",
    "\n",
    "### Test Scenario\n",
    "\n",
    "```python\n",
    "array = [[1,2,3],\n",
    "         [4,5,6],\n",
    "         [7,8,9]]\n",
    "expected = [1,2,3,6,9,8,7,4,5]\n",
    "test.assert_equals(snail(array), expected)\n",
    "\n",
    "\n",
    "array = [[1,2,3],\n",
    "         [8,9,4],\n",
    "         [7,6,5]]\n",
    "expected = [1,2,3,4,5,6,7,8,9]\n",
    "test.assert_equals(snail(array), expected)\n",
    "```\n"
   ]
  },
  {
   "cell_type": "code",
   "execution_count": 1,
   "metadata": {},
   "outputs": [],
   "source": [
    "def snail(hold):\n",
    "    stop = 0\n",
    "    list_ = []\n",
    "    try:\n",
    "        while stop != 1:\n",
    "            row = 0\n",
    "            print(hold)\n",
    "            #read thru first row\n",
    "            for column in range(-len(hold[-row]), 0):\n",
    "                list_.append(hold[-row][column])\n",
    "\n",
    "            #drop top row\n",
    "            hold.pop(row)\n",
    "\n",
    "\n",
    "            print(hold)\n",
    "            #read thru right column\n",
    "            for row in range(-len(hold), 0):\n",
    "                list_.append(hold[row][column])\n",
    "\n",
    "            # drop far column\n",
    "            for i in range(0,len(hold)):\n",
    "                 hold[i].pop(row)\n",
    "\n",
    "            print(hold)\n",
    "            #read bottom row backwards\n",
    "            for column in range(1,len(hold[0])+1):\n",
    "                list_.append(hold[row][-column])\n",
    "\n",
    "            #drop bottom row\n",
    "            hold.pop(row)\n",
    "\n",
    "            print(hold)\n",
    "            #read thru left column bottom up\n",
    "            for row in range(1,len(hold)+1):\n",
    "                list_.append(hold[-row][-column])\n",
    "\n",
    "            #drop near column\n",
    "            hold = [i[1:] for i in hold]\n",
    "\n",
    "            if len(hold[0]) == 1:\n",
    "                stop = 1\n",
    "                list_.append(hold[0][0])\n",
    "    except:\n",
    "        pass\n",
    "    return list_"
   ]
  },
  {
   "cell_type": "code",
   "execution_count": 2,
   "metadata": {},
   "outputs": [
    {
     "name": "stdout",
     "output_type": "stream",
     "text": [
      "[[1, 2, 3], [8, 9, 4], [7, 6, 5]]\n",
      "[[8, 9, 4], [7, 6, 5]]\n",
      "[[8, 9], [7, 6]]\n",
      "[[8, 9]]\n"
     ]
    },
    {
     "data": {
      "text/plain": [
       "True"
      ]
     },
     "execution_count": 2,
     "metadata": {},
     "output_type": "execute_result"
    }
   ],
   "source": [
    "array = [[1,2,3],\n",
    "         [8,9,4],\n",
    "         [7,6,5]]\n",
    "expected = [1,2,3,4,5,6,7,8,9]\n",
    "snail(array) == expected"
   ]
  },
  {
   "cell_type": "code",
   "execution_count": 3,
   "metadata": {},
   "outputs": [
    {
     "name": "stdout",
     "output_type": "stream",
     "text": [
      "[[1, 2, 3], [4, 5, 6], [7, 8, 9]]\n",
      "[[4, 5, 6], [7, 8, 9]]\n",
      "[[4, 5], [7, 8]]\n",
      "[[4, 5]]\n"
     ]
    },
    {
     "data": {
      "text/plain": [
       "True"
      ]
     },
     "execution_count": 3,
     "metadata": {},
     "output_type": "execute_result"
    }
   ],
   "source": [
    "array = [[1,2,3],\n",
    "         [4,5,6],\n",
    "         [7,8,9]]\n",
    "expected = [1,2,3,6,9,8,7,4,5]\n",
    "snail(array) == expected"
   ]
  },
  {
   "cell_type": "code",
   "execution_count": null,
   "metadata": {},
   "outputs": [],
   "source": []
  }
 ],
 "metadata": {
  "kernelspec": {
   "display_name": "Python [conda env:.conda-learn-env] *",
   "language": "python",
   "name": "conda-env-.conda-learn-env-py"
  },
  "language_info": {
   "codemirror_mode": {
    "name": "ipython",
    "version": 3
   },
   "file_extension": ".py",
   "mimetype": "text/x-python",
   "name": "python",
   "nbconvert_exporter": "python",
   "pygments_lexer": "ipython3",
   "version": "3.6.6"
  }
 },
 "nbformat": 4,
 "nbformat_minor": 2
}
