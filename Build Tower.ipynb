{
 "cells": [
  {
   "cell_type": "markdown",
   "metadata": {},
   "source": [
    "Build Tower by the following given argument:\n",
    "number of floors (integer and always greater than 0).\n",
    "\n",
    "Tower block is represented as *\n",
    "\n",
    "* Python: return a ```list;```\n",
    "* JavaScript: returns an ```Array```;\n",
    "* C#: returns a ```string[]```;\n",
    "* PHP: returns an ```array```;\n",
    "* C++: returns a ```vector<string>```;\n",
    "* Haskell: returns a ```[String]```;\n",
    "* Ruby: returns an ```Array```;\n",
    "* Lua: returns a ```Table```;\n",
    "\n",
    "Have fun!\n",
    "\n",
    "for example, a tower of 3 floors looks like below"
   ]
  },
  {
   "cell_type": "markdown",
   "metadata": {},
   "source": [
    "```python\n",
    "[\n",
    "  '  *  ', \n",
    "  ' *** ', \n",
    "  '*****'\n",
    "]\n",
    "```"
   ]
  },
  {
   "cell_type": "markdown",
   "metadata": {},
   "source": [
    "and a tower of 6 floors looks like below"
   ]
  },
  {
   "cell_type": "markdown",
   "metadata": {},
   "source": [
    "```python\n",
    "[\n",
    "  '     *     ', \n",
    "  '    ***    ', \n",
    "  '   *****   ', \n",
    "  '  *******  ', \n",
    "  ' ********* ', \n",
    "  '***********'\n",
    "]\n",
    "```"
   ]
  },
  {
   "cell_type": "markdown",
   "metadata": {},
   "source": [
    "Go challenge [Build Tower Advanced](https://www.codewars.com/kata/57675f3dedc6f728ee000256) once you have finished this :)  "
   ]
  },
  {
   "cell_type": "code",
   "execution_count": 1,
   "metadata": {},
   "outputs": [],
   "source": [
    "def tower_builder(n_floors):\n",
    "    matrix = [['*' for i in range(n_floors*2-1)] for i in range(n_floors)]\n",
    "    for i in range(1,len(matrix)):\n",
    "        matrix[-i-1][-i:] = [' ' for i in range(i)]\n",
    "        matrix[-i-1][:i] =  [' ' for i in range(i)]\n",
    "        matrix[-i-1] = ''.join(matrix[-i-1])\n",
    "    matrix[-1] = ''.join(matrix[-1])\n",
    "    return matrix"
   ]
  },
  {
   "cell_type": "code",
   "execution_count": 2,
   "metadata": {},
   "outputs": [],
   "source": [
    "a = tower_builder(10)"
   ]
  },
  {
   "cell_type": "code",
   "execution_count": 3,
   "metadata": {
    "scrolled": true
   },
   "outputs": [
    {
     "data": {
      "text/plain": [
       "['         *         ',\n",
       " '        ***        ',\n",
       " '       *****       ',\n",
       " '      *******      ',\n",
       " '     *********     ',\n",
       " '    ***********    ',\n",
       " '   *************   ',\n",
       " '  ***************  ',\n",
       " ' ***************** ',\n",
       " '*******************']"
      ]
     },
     "execution_count": 3,
     "metadata": {},
     "output_type": "execute_result"
    }
   ],
   "source": [
    "a"
   ]
  }
 ],
 "metadata": {
  "kernelspec": {
   "display_name": "Python [conda env:.conda-dash-env]",
   "language": "python",
   "name": "conda-env-.conda-dash-env-py"
  },
  "language_info": {
   "codemirror_mode": {
    "name": "ipython",
    "version": 3
   },
   "file_extension": ".py",
   "mimetype": "text/x-python",
   "name": "python",
   "nbconvert_exporter": "python",
   "pygments_lexer": "ipython3",
   "version": "3.6.6"
  }
 },
 "nbformat": 4,
 "nbformat_minor": 2
}
