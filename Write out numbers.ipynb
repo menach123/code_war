{
 "cells": [
  {
   "cell_type": "markdown",
   "metadata": {},
   "source": [
    "https://www.codewars.com/kata/52724507b149fa120600031d/train/python"
   ]
  },
  {
   "cell_type": "markdown",
   "metadata": {},
   "source": [
    "Create a function that transforms any positive number to a string representing the number in words. The function should work for all numbers between 0 and 999999.\n",
    "\n",
    "#### Examples\n",
    "```\n",
    "number2words(0)  ==>  \"zero\"\n",
    "number2words(1)  ==>  \"one\"\n",
    "number2words(9)  ==>  \"nine\"\n",
    "number2words(10)  ==>  \"ten\"\n",
    "number2words(17)  ==>  \"seventeen\"\n",
    "number2words(20)  ==>  \"twenty\"\n",
    "number2words(21)  ==>  \"twenty-one\"\n",
    "number2words(45)  ==>  \"forty-five\"\n",
    "number2words(80)  ==>  \"eighty\"\n",
    "number2words(99)  ==>  \"ninety-nine\"\n",
    "number2words(100)  ==>  \"one hundred\"\n",
    "number2words(301)  ==>  \"three hundred one\"\n",
    "number2words(799)  ==>  \"seven hundred ninety-nine\"\n",
    "number2words(800)  ==>  \"eight hundred\"\n",
    "number2words(950)  ==>  \"nine hundred fifty\"\n",
    "number2words(1000)  ==>  \"one thousand\"\n",
    "number2words(1002)  ==>  \"one thousand two\"\n",
    "number2words(3051)  ==>  \"three thousand fifty-one\"\n",
    "number2words(7200)  ==>  \"seven thousand two hundred\"\n",
    "number2words(7219)  ==>  \"seven thousand two hundred nineteen\"\n",
    "number2words(8330)  ==>  \"eight thousand three hundred thirty\"\n",
    "number2words(99999)  ==>  \"ninety-nine thousand nine hundred ninety-nine\"\n",
    "number2words(888888)  ==>  \"eight hundred eighty-eight thousand eight hundred eighty-eight\"\n",
    "```"
   ]
  },
  {
   "cell_type": "code",
   "execution_count": 1,
   "metadata": {},
   "outputs": [],
   "source": [
    "number_dict = {0:'zero',\n",
    "               1 : 'one', 2 : 'two',3: 'three',\n",
    "               4: 'four', 5: 'five', 6:'six', \n",
    "               7:'seven', 8:'eight', 9:'nine', \n",
    "               10:'ten', 11:'eleven', 12: 'twelve', \n",
    "               13:'thirteen', 14: 'fourteen', 15:'fifteen',\n",
    "               16:'sixteen', 17:'seventeen', 18:'eighteen',\n",
    "               19:'nineteen', 20:'twenty', 30:'thirty', \n",
    "               40: 'forty', 50: 'fifty', 60: 'sixty',\n",
    "               70: 'seventy', 80: 'eighty', 90: 'ninety'}\n",
    "def tens(number):\n",
    "    if number[-2:] == '00':\n",
    "        return ' '\n",
    "    return number_dict[int(number[-2:])] if int(number[-2:]) in number_dict.keys() else number_dict[int(number[-2]+ '0')]+ '-' + number_dict[int(number[-1])]\n",
    "\n",
    "def hundred(number):\n",
    "    if int(number[-2:]) == int(number):\n",
    "        return tens(number[-2:])\n",
    "    return number_dict[int(number[-3])]+ ' hundred '+ tens(number)\n",
    "\n",
    "def number2words(n):\n",
    "    \"\"\" works for numbers between 0 and 999999 \"\"\"\n",
    "    return (hundred(str(n)) if n < 1000 else hundred(str(n)[:-3])+ ' thousand '+ hundred(str(n)[-3:])).replace('  ', '')"
   ]
  },
  {
   "cell_type": "code",
   "execution_count": 2,
   "metadata": {},
   "outputs": [
    {
     "data": {
      "text/plain": [
       "'eight hundred eighty-eight thousand eight hundred eighty-eight'"
      ]
     },
     "execution_count": 2,
     "metadata": {},
     "output_type": "execute_result"
    }
   ],
   "source": [
    "number = 888888\n",
    "hundred(str(number)) if number < 1000 else hundred(str(number)[:-3])+ ' thousand '+ hundred(str(number)[-3:])"
   ]
  },
  {
   "cell_type": "code",
   "execution_count": 3,
   "metadata": {},
   "outputs": [
    {
     "data": {
      "text/plain": [
       "'eight hundred eighty-eight thousand eight hundred eighty-eight'"
      ]
     },
     "execution_count": 3,
     "metadata": {},
     "output_type": "execute_result"
    }
   ],
   "source": [
    "number2words(number)"
   ]
  },
  {
   "cell_type": "code",
   "execution_count": 4,
   "metadata": {},
   "outputs": [],
   "source": [
    "a = \"\"\"\n",
    "number2words(0)  ==  \"zero\"\n",
    "number2words(1)  ==  \"one\"\n",
    "number2words(9)  ==  \"nine\"\n",
    "number2words(10)  ==  \"ten\"\n",
    "number2words(17)  ==  \"seventeen\"\n",
    "number2words(20)  ==  \"twenty\"\n",
    "number2words(21)  ==  \"twenty-one\"\n",
    "number2words(45)  ==  \"forty-five\"\n",
    "number2words(80)  ==  \"eighty\"\n",
    "number2words(99)  ==  \"ninety-nine\"\n",
    "number2words(100)  ==  \"one hundred\"\n",
    "number2words(301)  ==  \"three hundred one\"\n",
    "number2words(799)  ==  \"seven hundred ninety-nine\"\n",
    "number2words(800)  ==  \"eight hundred\"\n",
    "number2words(950)  ==  \"nine hundred fifty\"\n",
    "number2words(1000)  ==  \"one thousand\"\n",
    "number2words(1002)  ==  \"one thousand two\"\n",
    "number2words(3051)  ==  \"three thousand fifty-one\"\n",
    "number2words(7200)  ==  \"seven thousand two hundred\"\n",
    "number2words(7219)  ==  \"seven thousand two hundred nineteen\"\n",
    "number2words(8330)  ==  \"eight thousand three hundred thirty\"\n",
    "number2words(99999)  ==  \"ninety-nine thousand nine hundred ninety-nine\"\n",
    "number2words(888888)  ==  \"eight hundred eighty-eight thousand eight hundred eighty-eight\"\n",
    "\"\"\""
   ]
  },
  {
   "cell_type": "code",
   "execution_count": 5,
   "metadata": {},
   "outputs": [
    {
     "data": {
      "text/plain": [
       "True"
      ]
     },
     "execution_count": 5,
     "metadata": {},
     "output_type": "execute_result"
    }
   ],
   "source": [
    "number2words(0)  ==  \"zero\"\n"
   ]
  },
  {
   "cell_type": "code",
   "execution_count": 6,
   "metadata": {},
   "outputs": [
    {
     "data": {
      "text/plain": [
       "True"
      ]
     },
     "execution_count": 6,
     "metadata": {},
     "output_type": "execute_result"
    }
   ],
   "source": [
    "number2words(9)  ==  \"nine\"\n"
   ]
  },
  {
   "cell_type": "code",
   "execution_count": 7,
   "metadata": {},
   "outputs": [
    {
     "data": {
      "text/plain": [
       "True"
      ]
     },
     "execution_count": 7,
     "metadata": {},
     "output_type": "execute_result"
    }
   ],
   "source": [
    "number2words(10)  ==  \"ten\"\n"
   ]
  },
  {
   "cell_type": "code",
   "execution_count": 8,
   "metadata": {},
   "outputs": [
    {
     "data": {
      "text/plain": [
       "True"
      ]
     },
     "execution_count": 8,
     "metadata": {},
     "output_type": "execute_result"
    }
   ],
   "source": [
    "number2words(17)  ==  \"seventeen\"\n"
   ]
  },
  {
   "cell_type": "code",
   "execution_count": 9,
   "metadata": {},
   "outputs": [
    {
     "data": {
      "text/plain": [
       "True"
      ]
     },
     "execution_count": 9,
     "metadata": {},
     "output_type": "execute_result"
    }
   ],
   "source": [
    "number2words(20)  ==  \"twenty\"\n"
   ]
  },
  {
   "cell_type": "code",
   "execution_count": 10,
   "metadata": {},
   "outputs": [
    {
     "data": {
      "text/plain": [
       "True"
      ]
     },
     "execution_count": 10,
     "metadata": {},
     "output_type": "execute_result"
    }
   ],
   "source": [
    "number2words(21)  ==  \"twenty-one\"\n"
   ]
  },
  {
   "cell_type": "code",
   "execution_count": 11,
   "metadata": {},
   "outputs": [
    {
     "data": {
      "text/plain": [
       "True"
      ]
     },
     "execution_count": 11,
     "metadata": {},
     "output_type": "execute_result"
    }
   ],
   "source": [
    "number2words(45)  ==  \"forty-five\"\n"
   ]
  },
  {
   "cell_type": "code",
   "execution_count": 12,
   "metadata": {},
   "outputs": [
    {
     "data": {
      "text/plain": [
       "True"
      ]
     },
     "execution_count": 12,
     "metadata": {},
     "output_type": "execute_result"
    }
   ],
   "source": [
    "number2words(80)  ==  \"eighty\"\n"
   ]
  },
  {
   "cell_type": "code",
   "execution_count": 13,
   "metadata": {},
   "outputs": [
    {
     "data": {
      "text/plain": [
       "True"
      ]
     },
     "execution_count": 13,
     "metadata": {},
     "output_type": "execute_result"
    }
   ],
   "source": [
    "number2words(99)  ==  \"ninety-nine\"\n"
   ]
  },
  {
   "cell_type": "code",
   "execution_count": 14,
   "metadata": {},
   "outputs": [
    {
     "data": {
      "text/plain": [
       "True"
      ]
     },
     "execution_count": 14,
     "metadata": {},
     "output_type": "execute_result"
    }
   ],
   "source": [
    "number2words(100)  ==  \"one hundred\"\n"
   ]
  },
  {
   "cell_type": "code",
   "execution_count": 16,
   "metadata": {},
   "outputs": [
    {
     "data": {
      "text/plain": [
       "True"
      ]
     },
     "execution_count": 16,
     "metadata": {},
     "output_type": "execute_result"
    }
   ],
   "source": [
    "number2words(301)  ==  \"three hundred one\"\n"
   ]
  },
  {
   "cell_type": "code",
   "execution_count": 17,
   "metadata": {},
   "outputs": [
    {
     "data": {
      "text/plain": [
       "True"
      ]
     },
     "execution_count": 17,
     "metadata": {},
     "output_type": "execute_result"
    }
   ],
   "source": [
    "number2words(799)  ==  \"seven hundred ninety-nine\"\n"
   ]
  },
  {
   "cell_type": "code",
   "execution_count": 18,
   "metadata": {},
   "outputs": [
    {
     "data": {
      "text/plain": [
       "True"
      ]
     },
     "execution_count": 18,
     "metadata": {},
     "output_type": "execute_result"
    }
   ],
   "source": [
    "number2words(800)  ==  \"eight hundred\"\n"
   ]
  },
  {
   "cell_type": "code",
   "execution_count": 19,
   "metadata": {},
   "outputs": [
    {
     "data": {
      "text/plain": [
       "True"
      ]
     },
     "execution_count": 19,
     "metadata": {},
     "output_type": "execute_result"
    }
   ],
   "source": [
    "number2words(950)  ==  \"nine hundred fifty\"\n"
   ]
  },
  {
   "cell_type": "code",
   "execution_count": 20,
   "metadata": {},
   "outputs": [
    {
     "data": {
      "text/plain": [
       "True"
      ]
     },
     "execution_count": 20,
     "metadata": {},
     "output_type": "execute_result"
    }
   ],
   "source": [
    "number2words(1000)  ==  \"one thousand\"\n"
   ]
  },
  {
   "cell_type": "code",
   "execution_count": 21,
   "metadata": {},
   "outputs": [
    {
     "data": {
      "text/plain": [
       "True"
      ]
     },
     "execution_count": 21,
     "metadata": {},
     "output_type": "execute_result"
    }
   ],
   "source": [
    "number2words(1002)  ==  \"one thousand two\"\n"
   ]
  },
  {
   "cell_type": "code",
   "execution_count": 22,
   "metadata": {},
   "outputs": [
    {
     "data": {
      "text/plain": [
       "True"
      ]
     },
     "execution_count": 22,
     "metadata": {},
     "output_type": "execute_result"
    }
   ],
   "source": [
    "number2words(3051)  ==  \"three thousand fifty-one\"\n"
   ]
  },
  {
   "cell_type": "code",
   "execution_count": 23,
   "metadata": {},
   "outputs": [
    {
     "data": {
      "text/plain": [
       "True"
      ]
     },
     "execution_count": 23,
     "metadata": {},
     "output_type": "execute_result"
    }
   ],
   "source": [
    "number2words(7200)  ==  \"seven thousand two hundred\"\n"
   ]
  },
  {
   "cell_type": "code",
   "execution_count": 24,
   "metadata": {},
   "outputs": [
    {
     "data": {
      "text/plain": [
       "True"
      ]
     },
     "execution_count": 24,
     "metadata": {},
     "output_type": "execute_result"
    }
   ],
   "source": [
    "number2words(7219)  ==  \"seven thousand two hundred nineteen\"\n"
   ]
  },
  {
   "cell_type": "code",
   "execution_count": 25,
   "metadata": {},
   "outputs": [
    {
     "data": {
      "text/plain": [
       "True"
      ]
     },
     "execution_count": 25,
     "metadata": {},
     "output_type": "execute_result"
    }
   ],
   "source": [
    "number2words(8330)  ==  \"eight thousand three hundred thirty\"\n"
   ]
  },
  {
   "cell_type": "code",
   "execution_count": 26,
   "metadata": {},
   "outputs": [
    {
     "data": {
      "text/plain": [
       "True"
      ]
     },
     "execution_count": 26,
     "metadata": {},
     "output_type": "execute_result"
    }
   ],
   "source": [
    "number2words(99999)  ==  \"ninety-nine thousand nine hundred ninety-nine\"\n"
   ]
  },
  {
   "cell_type": "code",
   "execution_count": 27,
   "metadata": {},
   "outputs": [
    {
     "data": {
      "text/plain": [
       "True"
      ]
     },
     "execution_count": 27,
     "metadata": {},
     "output_type": "execute_result"
    }
   ],
   "source": [
    "number2words(888888)  ==  \"eight hundred eighty-eight thousand eight hundred eighty-eight\""
   ]
  },
  {
   "cell_type": "markdown",
   "metadata": {},
   "source": [
    "813220, should be eight hundred thirteen thousand two hundred twenty: 'eight hundred thriteen thousand two hundred twenty' should equal 'eight hundred thirteen thousand two hundred twenty'"
   ]
  },
  {
   "cell_type": "code",
   "execution_count": 28,
   "metadata": {},
   "outputs": [
    {
     "data": {
      "text/plain": [
       "'eight hundred thriteen thousand two hundred twenty'"
      ]
     },
     "execution_count": 28,
     "metadata": {},
     "output_type": "execute_result"
    }
   ],
   "source": [
    "number2words(813220)"
   ]
  },
  {
   "cell_type": "code",
   "execution_count": null,
   "metadata": {},
   "outputs": [],
   "source": [
    "\n",
    "!git add . \n",
    "!git commit -m \"Complete\"\n",
    "!git push"
   ]
  }
 ],
 "metadata": {
  "kernelspec": {
   "display_name": "Python [conda env:.conda-learn-env] *",
   "language": "python",
   "name": "conda-env-.conda-learn-env-py"
  },
  "language_info": {
   "codemirror_mode": {
    "name": "ipython",
    "version": 3
   },
   "file_extension": ".py",
   "mimetype": "text/x-python",
   "name": "python",
   "nbconvert_exporter": "python",
   "pygments_lexer": "ipython3",
   "version": "3.6.6"
  }
 },
 "nbformat": 4,
 "nbformat_minor": 2
}
