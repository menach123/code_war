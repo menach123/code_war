{
 "cells": [
  {
   "cell_type": "markdown",
   "metadata": {},
   "source": [
    "\n",
    "We'll create a function that takes in two parameters:\n",
    "\n",
    "* a sequence (length and types of items are irrelevant)\n",
    "* a function (value, index) that will be called on members of the sequence and their index. The function will return either true or false.\n",
    "\n",
    "Your function will iterate through the members of the sequence in order until the provided function returns true; at which point your function will return that item's index.\n",
    "\n",
    "If the function given returns false for all members of the sequence, your function should return -1.\n",
    "\n",
    "```python\n",
    "true_if_even = lambda value, index: value % 2 == 0\n",
    "find_in_array([1,3,5,6,7], true_if_even) # --> 3\n",
    "```\n",
    "\n",
    "https://www.codewars.com/kata/51f082ba7297b8f07f000001"
   ]
  },
  {
   "cell_type": "code",
   "execution_count": 1,
   "metadata": {},
   "outputs": [],
   "source": [
    "true_if_even = lambda value, index: value % 2 == 0"
   ]
  },
  {
   "cell_type": "code",
   "execution_count": 2,
   "metadata": {},
   "outputs": [
    {
     "data": {
      "text/plain": [
       "3"
      ]
     },
     "execution_count": 2,
     "metadata": {},
     "output_type": "execute_result"
    }
   ],
   "source": [
    "a = [i for i, j in enumerate([1,3,5,6,7]) if true_if_even(j,i)]\n",
    "-1 if len(a) == 0 else a[0]"
   ]
  },
  {
   "cell_type": "code",
   "execution_count": 3,
   "metadata": {},
   "outputs": [],
   "source": [
    "def find_in_array(seq, predicate):\n",
    "    result = [i for i, j in enumerate(seq) if true_if_even(j,i)]\n",
    "    return -1 if len(result) == 0 else result[0]"
   ]
  },
  {
   "cell_type": "code",
   "execution_count": 4,
   "metadata": {},
   "outputs": [],
   "source": [
    "true_if_even = lambda v, i: v % 2 == 0\n",
    "never_true = lambda v, i: False\n",
    "true_if_value_equals_index = lambda v, i: v == i\n",
    "true_if_length_equals_index = lambda v, i: len(v) == i"
   ]
  },
  {
   "cell_type": "code",
   "execution_count": 5,
   "metadata": {},
   "outputs": [
    {
     "data": {
      "text/plain": [
       "(-1, True)"
      ]
     },
     "execution_count": 5,
     "metadata": {},
     "output_type": "execute_result"
    }
   ],
   "source": [
    "find_in_array([], true_if_even) , find_in_array([], true_if_even)== -1"
   ]
  },
  {
   "cell_type": "code",
   "execution_count": 6,
   "metadata": {},
   "outputs": [
    {
     "data": {
      "text/plain": [
       "(3, True)"
      ]
     },
     "execution_count": 6,
     "metadata": {},
     "output_type": "execute_result"
    }
   ],
   "source": [
    "find_in_array([1,3,5,6,7], true_if_even) , find_in_array([1,3,5,6,7], true_if_even)  == 3"
   ]
  },
  {
   "cell_type": "code",
   "execution_count": null,
   "metadata": {},
   "outputs": [],
   "source": []
  }
 ],
 "metadata": {
  "kernelspec": {
   "display_name": "Python [conda env:.conda-learn-env] *",
   "language": "python",
   "name": "conda-env-.conda-learn-env-py"
  },
  "language_info": {
   "codemirror_mode": {
    "name": "ipython",
    "version": 3
   },
   "file_extension": ".py",
   "mimetype": "text/x-python",
   "name": "python",
   "nbconvert_exporter": "python",
   "pygments_lexer": "ipython3",
   "version": "3.6.6"
  }
 },
 "nbformat": 4,
 "nbformat_minor": 2
}
