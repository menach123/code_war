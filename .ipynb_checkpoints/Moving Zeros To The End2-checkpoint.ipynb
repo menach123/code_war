{
 "cells": [
  {
   "cell_type": "markdown",
   "metadata": {},
   "source": [
    "Write an algorithm that takes an array and moves all of the zeros to the end, preserving the order of the other elements."
   ]
  },
  {
   "cell_type": "markdown",
   "metadata": {},
   "source": [
    "```python\n",
    "move_zeros([false,1,0,1,2,0,1,3,\"a\"]) # returns[false,1,1,2,1,3,\"a\",0,0]```"
   ]
  },
  {
   "cell_type": "code",
   "execution_count": 1,
   "metadata": {},
   "outputs": [
    {
     "data": {
      "text/plain": [
       "[[9, 0.0, 0, 9, 1, 2, 0, 1, 0, 1, 0.0, 3, 0, 1, 9, 0, 0, 0, 0, 9]]"
      ]
     },
     "execution_count": 1,
     "metadata": {},
     "output_type": "execute_result"
    }
   ],
   "source": [
    "array = [[9,0.0,0,9,1,2,0,1,0,1,0.0,3,0,1,9,0,0,0,0,9]]\n",
    "\n",
    "keep = [i for i in range(0, len(array)) if array[i] != 0]\n",
    "drop = [i for i in range(0, len(array)) if i not in keep] \n",
    "for i in drop:\n",
    "        array[i] = int(0)\n",
    "[array[i] for i in keep]"
   ]
  },
  {
   "cell_type": "code",
   "execution_count": 2,
   "metadata": {},
   "outputs": [],
   "source": [
    "def move_zeros(array):\n",
    "    for i, j  in enumerate(array):\n",
    "        if j == 0:\n",
    "            if j is not False:\n",
    "                array[i] = 0\n",
    "\n",
    "    drop = [i for i in range(0, len(array)) if array[i] is 0]\n",
    "    keep = [i for i in range(0, len(array)) if i not in drop] \n",
    "\n",
    "    end = keep + drop\n",
    "    return [array[i] for i in end]\n",
    "    "
   ]
  },
  {
   "cell_type": "code",
   "execution_count": 3,
   "metadata": {},
   "outputs": [
    {
     "data": {
      "text/plain": [
       "True"
      ]
     },
     "execution_count": 3,
     "metadata": {},
     "output_type": "execute_result"
    }
   ],
   "source": [
    "move_zeros([1,2,0,1,0,1,0,3,0,1]) == [ 1, 2, 1, 1, 3, 1, 0, 0, 0, 0 ]"
   ]
  },
  {
   "cell_type": "code",
   "execution_count": 4,
   "metadata": {},
   "outputs": [
    {
     "data": {
      "text/plain": [
       "True"
      ]
     },
     "execution_count": 4,
     "metadata": {},
     "output_type": "execute_result"
    }
   ],
   "source": [
    "move_zeros([9,0.0,0,9,1,2,0,1,0,1,0.0,3,0,1,9,0,0,0,0,9]) == [9,9,1,2,1,1,3,1,9,9,0,0,0,0,0,0,0,0,0,0]\n"
   ]
  },
  {
   "cell_type": "code",
   "execution_count": 5,
   "metadata": {
    "scrolled": true
   },
   "outputs": [
    {
     "data": {
      "text/plain": [
       "True"
      ]
     },
     "execution_count": 5,
     "metadata": {},
     "output_type": "execute_result"
    }
   ],
   "source": [
    "move_zeros([\"a\",0,0,\"b\",\"c\",\"d\",0,1,0,1,0,3,0,1,9,0,0,0,0,9])== [\"a\",\"b\",\"c\",\"d\",1,1,3,1,9,9,0,0,0,0,0,0,0,0,0,0]\n"
   ]
  },
  {
   "cell_type": "code",
   "execution_count": 6,
   "metadata": {},
   "outputs": [
    {
     "data": {
      "text/plain": [
       "True"
      ]
     },
     "execution_count": 6,
     "metadata": {},
     "output_type": "execute_result"
    }
   ],
   "source": [
    "move_zeros([0,1,None,2,False,1,0])  == [1,None,2,False,1,0,0]"
   ]
  },
  {
   "cell_type": "code",
   "execution_count": 7,
   "metadata": {
    "scrolled": true
   },
   "outputs": [
    {
     "data": {
      "text/plain": [
       "True"
      ]
     },
     "execution_count": 7,
     "metadata": {},
     "output_type": "execute_result"
    }
   ],
   "source": [
    "move_zeros([\"a\",\"b\"])== [\"a\",\"b\"]"
   ]
  },
  {
   "cell_type": "code",
   "execution_count": 8,
   "metadata": {},
   "outputs": [
    {
     "data": {
      "text/plain": [
       "True"
      ]
     },
     "execution_count": 8,
     "metadata": {},
     "output_type": "execute_result"
    }
   ],
   "source": [
    "move_zeros([\"a\"])== [\"a\"]"
   ]
  },
  {
   "cell_type": "code",
   "execution_count": 9,
   "metadata": {},
   "outputs": [
    {
     "data": {
      "text/plain": [
       "True"
      ]
     },
     "execution_count": 9,
     "metadata": {},
     "output_type": "execute_result"
    }
   ],
   "source": [
    "move_zeros([0,0])== [0,0]"
   ]
  },
  {
   "cell_type": "code",
   "execution_count": 10,
   "metadata": {},
   "outputs": [
    {
     "data": {
      "text/plain": [
       "True"
      ]
     },
     "execution_count": 10,
     "metadata": {},
     "output_type": "execute_result"
    }
   ],
   "source": [
    "move_zeros([0])== [0]"
   ]
  },
  {
   "cell_type": "code",
   "execution_count": 11,
   "metadata": {},
   "outputs": [
    {
     "data": {
      "text/plain": [
       "True"
      ]
     },
     "execution_count": 11,
     "metadata": {},
     "output_type": "execute_result"
    }
   ],
   "source": [
    "move_zeros([False])== [False]"
   ]
  },
  {
   "cell_type": "code",
   "execution_count": 12,
   "metadata": {},
   "outputs": [
    {
     "data": {
      "text/plain": [
       "True"
      ]
     },
     "execution_count": 12,
     "metadata": {},
     "output_type": "execute_result"
    }
   ],
   "source": [
    "move_zeros([])== []"
   ]
  },
  {
   "cell_type": "code",
   "execution_count": 13,
   "metadata": {},
   "outputs": [
    {
     "data": {
      "text/plain": [
       "[]"
      ]
     },
     "execution_count": 13,
     "metadata": {},
     "output_type": "execute_result"
    }
   ],
   "source": [
    "move_zeros([1,2,0,1,0,1,0,3,0,1])# [ 1, 2, 1, 1, 3, 1, 0, 0, 0, 0 ]\n",
    "move_zeros([9,0.0,0,9,1,2,0,1,0,1,0.0,3,0,1,9,0,0,0,0,9])# [9,9,1,2,1,1,3,1,9,9,0,0,0,0,0,0,0,0,0,0]\n",
    "move_zeros([\"a\",0,0,\"b\",\"c\",\"d\",0,1,0,1,0,3,0,1,9,0,0,0,0,9])# [\"a\",\"b\",\"c\",\"d\",1,1,3,1,9,9,0,0,0,0,0,0,0,0,0,0]\n",
    "move_zeros([\"a\",0,0,\"b\",None,\"c\",\"d\",0,1,False,0,1,0,3,[],0,1,9,0,0,{},0,0,9])# [\"a\",\"b\",None,\"c\",\"d\",1,False,1,3,[],1,9,{},9,0,0,0,0,0,0,0,0,0,0]\n",
    "move_zeros([0,1,None,2,False,1,0])# [1,None,2,False,1,0,0]\n",
    "move_zeros([\"a\",\"b\"])# [\"a\",\"b\"]\n",
    "move_zeros([\"a\"])# [\"a\"]\n",
    "move_zeros([0,0])# [0,0]\n",
    "move_zeros([0])# [0]\n",
    "move_zeros([False])# [False]\n",
    "move_zeros([])# []"
   ]
  }
 ],
 "metadata": {
  "kernelspec": {
   "display_name": "Python [conda env:.conda-learn-env] *",
   "language": "python",
   "name": "conda-env-.conda-learn-env-py"
  },
  "language_info": {
   "codemirror_mode": {
    "name": "ipython",
    "version": 3
   },
   "file_extension": ".py",
   "mimetype": "text/x-python",
   "name": "python",
   "nbconvert_exporter": "python",
   "pygments_lexer": "ipython3",
   "version": "3.6.6"
  }
 },
 "nbformat": 4,
 "nbformat_minor": 2
}
