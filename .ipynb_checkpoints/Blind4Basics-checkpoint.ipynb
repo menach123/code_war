{
 "cells": [
  {
   "cell_type": "markdown",
   "metadata": {},
   "source": [
    "\n",
    "Create a function that differentiates a polynomial for a given value of x.\n",
    "\n",
    "Your function will receive 2 arguments: a polynomial as a string, and a point to evaluate the equation as an integer.\n",
    "\n",
    "https://www.codewars.com/kata/566584e3309db1b17d000027/train/python\n",
    "\n",
    "### Assumption\n",
    "* There will be a coefficient near each ```x```, unless the coeffient equals ```1``` or ```-1```.\n",
    "* There will be an exponent near each ```x```, unless the exponent equals ```0``` or ```1```\n",
    "* All exponents will be greater or equal to zero\n",
    "\n",
    "### Examples:\n",
    "```python\n",
    "differentiate(\"12x+2\", 3)      ==>   returns 12\n",
    "differentiate(\"x^2+3x+2\", 3)   ==>   returns 9\n",
    "```"
   ]
  },
  {
   "cell_type": "code",
   "execution_count": 1,
   "metadata": {},
   "outputs": [],
   "source": [
    "string = \"x^2+3x+2\"\n",
    "point = 3"
   ]
  },
  {
   "cell_type": "code",
   "execution_count": 2,
   "metadata": {},
   "outputs": [
    {
     "data": {
      "text/plain": [
       "['x2', '+3x', '+2']"
      ]
     },
     "execution_count": 2,
     "metadata": {},
     "output_type": "execute_result"
    }
   ],
   "source": [
    "# breaking string at + and - except the first into list of strings\n",
    "a = [string[:i+1] for i, j in enumerate(string[1:]) if j in '+-']\n",
    "# add last term to list\n",
    "a.append(string.split(a[-1])[1])\n",
    "# split in the string by the previous clipped string and in the second string.\n",
    "for i in range(1, len(a)-1):\n",
    "    a[i] = a[i].split(a[i-1])[1]\n",
    "    \n",
    "a = [i.replace('^', '') for i in a if i not in '+-']\n",
    "a"
   ]
  },
  {
   "cell_type": "code",
   "execution_count": 3,
   "metadata": {},
   "outputs": [
    {
     "data": {
      "text/plain": [
       "9"
      ]
     },
     "execution_count": 3,
     "metadata": {},
     "output_type": "execute_result"
    }
   ],
   "source": [
    "for i in range(len(a)):\n",
    "    \n",
    "    split_ = a[i].split('x')\n",
    "\n",
    "    if len(split_) == 1:\n",
    "        a[i] = 0\n",
    "        continue\n",
    "    if split_[0] == '':\n",
    "        split_[0] = '1'\n",
    "    elif '-' == split_[0]:\n",
    "        split_[0] = '-1'\n",
    "    if split_[1] == '':\n",
    "        split_[1] = '1'\n",
    "    a[i] = int(split_[0])* int(split_[1])* point** (int(split_[1])- 1)\n",
    "sum(a)"
   ]
  },
  {
   "cell_type": "markdown",
   "metadata": {},
   "source": [
    "#### Solution:"
   ]
  },
  {
   "cell_type": "code",
   "execution_count": 37,
   "metadata": {},
   "outputs": [],
   "source": [
    "def differentiate(equation, point):\n",
    "    # breaking string at + and - except the first into list of strings\n",
    "    terms = [equation[:i+1] for i, j in enumerate(equation[1:]) if j in '+-']\n",
    "    \n",
    "    \n",
    "    # add last term to list\n",
    "    if terms == []:\n",
    "        terms = [equation]\n",
    "    else:\n",
    "        terms.append(equation.split(terms[-1])[-1])\n",
    "        # split in the string by the previous clipped string and in the second string.\n",
    "        for i in range(1, len(terms)-1):\n",
    "            terms[i] = terms[i].split(terms[i-1])[1]\n",
    "\n",
    "    terms = [i.replace('^', '') for i in terms if i not in '+-']\n",
    "    \n",
    "    for i in range(len(terms)):\n",
    "    \n",
    "        split_ = terms[i].split('x')\n",
    "\n",
    "        if len(split_) == 1:\n",
    "            terms[i] = 0\n",
    "            continue\n",
    "        if split_[0] == '':\n",
    "            split_[0] = '1'\n",
    "        elif '-' == split_[0]:\n",
    "            split_[0] = '-1'\n",
    "        if split_[1] == '':\n",
    "            split_[1] = '1'\n",
    "        terms[i] = int(split_[0])* int(split_[1])* point** (int(split_[1])- 1)\n",
    "    return sum(terms)"
   ]
  },
  {
   "cell_type": "code",
   "execution_count": 38,
   "metadata": {},
   "outputs": [
    {
     "name": "stdout",
     "output_type": "stream",
     "text": [
      "['12x', '+2']\n"
     ]
    },
    {
     "data": {
      "text/plain": [
       "12"
      ]
     },
     "execution_count": 38,
     "metadata": {},
     "output_type": "execute_result"
    }
   ],
   "source": [
    "differentiate(\"12x+2\", 3) #     ==>   returns 12"
   ]
  },
  {
   "cell_type": "code",
   "execution_count": 39,
   "metadata": {},
   "outputs": [
    {
     "name": "stdout",
     "output_type": "stream",
     "text": [
      "['x2', '+3x', '+2']\n"
     ]
    },
    {
     "data": {
      "text/plain": [
       "9"
      ]
     },
     "execution_count": 39,
     "metadata": {},
     "output_type": "execute_result"
    }
   ],
   "source": [
    "differentiate(\"x^2+3x+2\", 3)#   ==>   returns 9"
   ]
  },
  {
   "cell_type": "code",
   "execution_count": 40,
   "metadata": {},
   "outputs": [
    {
     "name": "stdout",
     "output_type": "stream",
     "text": [
      "['12x', '+2']\n"
     ]
    },
    {
     "data": {
      "text/plain": [
       "12"
      ]
     },
     "execution_count": 40,
     "metadata": {},
     "output_type": "execute_result"
    }
   ],
   "source": [
    "differentiate(\"12x+2\", 3)# 12"
   ]
  },
  {
   "cell_type": "code",
   "execution_count": 41,
   "metadata": {},
   "outputs": [
    {
     "name": "stdout",
     "output_type": "stream",
     "text": [
      "['x2', '-x']\n"
     ]
    },
    {
     "data": {
      "text/plain": [
       "5"
      ]
     },
     "execution_count": 41,
     "metadata": {},
     "output_type": "execute_result"
    }
   ],
   "source": [
    "differentiate(\"x^2-x\", 3)# 5"
   ]
  },
  {
   "cell_type": "code",
   "execution_count": 42,
   "metadata": {},
   "outputs": [
    {
     "name": "stdout",
     "output_type": "stream",
     "text": [
      "['-5x2', '+10x', '+4']\n"
     ]
    },
    {
     "data": {
      "text/plain": [
       "-20"
      ]
     },
     "execution_count": 42,
     "metadata": {},
     "output_type": "execute_result"
    }
   ],
   "source": [
    "differentiate(\"-5x^2+10x+4\", 3)# -20"
   ]
  },
  {
   "cell_type": "code",
   "execution_count": 43,
   "metadata": {},
   "outputs": [
    {
     "name": "stdout",
     "output_type": "stream",
     "text": [
      "['x2']\n"
     ]
    },
    {
     "data": {
      "text/plain": [
       "119769696967118"
      ]
     },
     "execution_count": 43,
     "metadata": {},
     "output_type": "execute_result"
    }
   ],
   "source": [
    "differentiate(\"x^2\",59884848483559) # 119769696967118"
   ]
  },
  {
   "cell_type": "code",
   "execution_count": null,
   "metadata": {},
   "outputs": [],
   "source": []
  },
  {
   "cell_type": "code",
   "execution_count": null,
   "metadata": {},
   "outputs": [],
   "source": []
  }
 ],
 "metadata": {
  "kernelspec": {
   "display_name": "Python [conda env:.conda-learn-env] *",
   "language": "python",
   "name": "conda-env-.conda-learn-env-py"
  },
  "language_info": {
   "codemirror_mode": {
    "name": "ipython",
    "version": 3
   },
   "file_extension": ".py",
   "mimetype": "text/x-python",
   "name": "python",
   "nbconvert_exporter": "python",
   "pygments_lexer": "ipython3",
   "version": "3.6.6"
  }
 },
 "nbformat": 4,
 "nbformat_minor": 2
}
