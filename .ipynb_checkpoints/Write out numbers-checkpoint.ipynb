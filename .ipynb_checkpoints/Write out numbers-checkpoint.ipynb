{
 "cells": [
  {
   "cell_type": "markdown",
   "metadata": {},
   "source": [
    "https://www.codewars.com/kata/52724507b149fa120600031d/train/python"
   ]
  },
  {
   "cell_type": "markdown",
   "metadata": {},
   "source": [
    "Create a function that transforms any positive number to a string representing the number in words. The function should work for all numbers between 0 and 999999.\n",
    "\n",
    "#### Examples\n",
    "```\n",
    "number2words(0)  ==>  \"zero\"\n",
    "number2words(1)  ==>  \"one\"\n",
    "number2words(9)  ==>  \"nine\"\n",
    "number2words(10)  ==>  \"ten\"\n",
    "number2words(17)  ==>  \"seventeen\"\n",
    "number2words(20)  ==>  \"twenty\"\n",
    "number2words(21)  ==>  \"twenty-one\"\n",
    "number2words(45)  ==>  \"forty-five\"\n",
    "number2words(80)  ==>  \"eighty\"\n",
    "number2words(99)  ==>  \"ninety-nine\"\n",
    "number2words(100)  ==>  \"one hundred\"\n",
    "number2words(301)  ==>  \"three hundred one\"\n",
    "number2words(799)  ==>  \"seven hundred ninety-nine\"\n",
    "number2words(800)  ==>  \"eight hundred\"\n",
    "number2words(950)  ==>  \"nine hundred fifty\"\n",
    "number2words(1000)  ==>  \"one thousand\"\n",
    "number2words(1002)  ==>  \"one thousand two\"\n",
    "number2words(3051)  ==>  \"three thousand fifty-one\"\n",
    "number2words(7200)  ==>  \"seven thousand two hundred\"\n",
    "number2words(7219)  ==>  \"seven thousand two hundred nineteen\"\n",
    "number2words(8330)  ==>  \"eight thousand three hundred thirty\"\n",
    "number2words(99999)  ==>  \"ninety-nine thousand nine hundred ninety-nine\"\n",
    "number2words(888888)  ==>  \"eight hundred eighty-eight thousand eight hundred eighty-eight\"\n",
    "```"
   ]
  },
  {
   "cell_type": "code",
   "execution_count": 24,
   "metadata": {},
   "outputs": [],
   "source": [
    "number_dict = {1 : 'one', 2 : 'two',3: 'three',\n",
    "               4: 'four', 5: 'five', 6:'six', \n",
    "               7:'seven', 8:'eight', 9:'nine', \n",
    "               10:'ten', 11:'eleven', 12: 'twelve', \n",
    "               13:'thriteen', 14: 'fourteen', 15:'fifteen',\n",
    "               16:'sixteen', 17:'seventeen', 18:'eighteen',\n",
    "               19:'nineteen', 20:'twenty', 30:'thrity', \n",
    "               40: 'forty', 50: 'fifty', 60: 'sixty',\n",
    "               70: 'seventy', 80: 'eighty', 90: 'ninety'}\n",
    "def tens(number):\n",
    "    return number_dict[int(number[-2:])] if int(number[-2:]) in number_dict.keys() else number_dict[int(number[-2]+ '0')]+ '-' + number_dict[int(number[-1])]\n"
   ]
  },
  {
   "cell_type": "code",
   "execution_count": 25,
   "metadata": {},
   "outputs": [
    {
     "data": {
      "text/plain": [
       "'eighty-eight'"
      ]
     },
     "execution_count": 25,
     "metadata": {},
     "output_type": "execute_result"
    }
   ],
   "source": [
    "number_dict[int(number[-2:])] if int(number[-2:]) in number_dict.keys() else number_dict[int(number[-2]+ '0')]+ '-' + number_dict[int(number[-1])]"
   ]
  },
  {
   "cell_type": "code",
   "execution_count": 26,
   "metadata": {},
   "outputs": [
    {
     "data": {
      "text/plain": [
       "'eighty-eight'"
      ]
     },
     "execution_count": 26,
     "metadata": {},
     "output_type": "execute_result"
    }
   ],
   "source": [
    "number_dict[int(number[-2]+ '0')]+ '-' + number_dict[int(number[-1])]"
   ]
  },
  {
   "cell_type": "code",
   "execution_count": null,
   "metadata": {},
   "outputs": [],
   "source": []
  }
 ],
 "metadata": {
  "kernelspec": {
   "display_name": "Python [conda env:.conda-learn-env] *",
   "language": "python",
   "name": "conda-env-.conda-learn-env-py"
  },
  "language_info": {
   "codemirror_mode": {
    "name": "ipython",
    "version": 3
   },
   "file_extension": ".py",
   "mimetype": "text/x-python",
   "name": "python",
   "nbconvert_exporter": "python",
   "pygments_lexer": "ipython3",
   "version": "3.6.6"
  }
 },
 "nbformat": 4,
 "nbformat_minor": 2
}
