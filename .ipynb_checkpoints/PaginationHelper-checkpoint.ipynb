{
 "cells": [
  {
   "cell_type": "markdown",
   "metadata": {},
   "source": [
    "For this exercise you will be strengthening your page-fu mastery. You will complete the PaginationHelper class, which is a utility class helpful for querying paging information related to an array.\n",
    "\n",
    "The class is designed to take in an array of values and an integer indicating how many items will be allowed per each page. The types of values contained within the collection/array are not relevant.\n",
    "\n",
    "The following are some examples of how this class is used:\n",
    "``` python \n",
    "helper = PaginationHelper(['a','b','c','d','e','f'], 4)\n",
    "helper.page_count # should == 2\n",
    "helper.item_count # should == 6\n",
    "helper.page_item_count(0)  # should == 4\n",
    "helper.page_item_count(1) # last page - should == 2\n",
    "helper.page_item_count(2) # should == -1 since the page is invalid\n",
    "\n",
    "# page_ndex takes an item index and returns the page that it belongs on\n",
    "helper.page_index(5) # should == 1 (zero based index)\n",
    "helper.page_index(2) # should == 0\n",
    "helper.page_index(20) # should == -1\n",
    "helper.page_index(-10) # should == -1 because negative indexes are invalid\n",
    "\n",
    "# test examples\n",
    "collection = range(1,25)\n",
    "helper = PaginationHelper(collection, 10)\n",
    "\n",
    "Test.assert_equals(helper.page_count(), 3, 'page_count is returning incorrect value.')\n",
    "Test.assert_equals(helper.page_index(23), 2, 'page_index returned incorrect value')\n",
    "Test.assert_equals(helper.item_count(), 24, 'item_count returned incorrect value')\n",
    "\n",
    "```"
   ]
  },
  {
   "cell_type": "code",
   "execution_count": 1,
   "metadata": {},
   "outputs": [],
   "source": [
    "class PaginationHelper:\n",
    "    \n",
    "\n",
    "  # The constructor takes in an array of items and a integer indicating\n",
    "  # how many items fit within a single page\n",
    "    def __init__(self, collection, items_per_page):\n",
    "        self.collection = collection\n",
    "        self.items_per_page= items_per_page\n",
    "        pass  \n",
    "  \n",
    "  # returns the number of items within the entire collection\n",
    "    def item_count(self):\n",
    "        return len(self.collection)\n",
    "      \n",
    "  \n",
    "  # returns the number of pages\n",
    "    def page_count(self):\n",
    "        if self.item_count()//self.items_per_page == self.item_count()/self.items_per_page:\n",
    "            return self.item_count()/self.items_per_page\n",
    "        return 1+ self.item_count()//self.items_per_page\n",
    "      \n",
    "\t\n",
    "  # returns the number of items on the current page. page_index is zero based\n",
    "  # this method should return -1 for page_index values that are out of range\n",
    "    def page_item_count(self,page_index):\n",
    "        if self.item_count()< page_index* self.items_per_page:\n",
    "            return -1\n",
    "        return len(self.collection[page_index* self.items_per_page: page_index* self.items_per_page+ self.items_per_page])\n",
    "        \n",
    "    \n",
    "     # determines what page an item is on. Zero based indexes.\n",
    "  # this method should return -1 for item_index values that are out of range\n",
    "    def page_index(self,item_index):\n",
    "        if item_index >= len(self.collection) or item_index < 0:\n",
    "            return -1\n",
    "        else:\n",
    "            return item_index // self.items_per_page\n",
    "        \n",
    "        "
   ]
  },
  {
   "cell_type": "code",
   "execution_count": 2,
   "metadata": {},
   "outputs": [],
   "source": [
    "helper = PaginationHelper(['a','b','c','d','e','f'], 4)"
   ]
  },
  {
   "cell_type": "code",
   "execution_count": 3,
   "metadata": {},
   "outputs": [
    {
     "data": {
      "text/plain": [
       "6"
      ]
     },
     "execution_count": 3,
     "metadata": {},
     "output_type": "execute_result"
    }
   ],
   "source": [
    "helper.item_count()"
   ]
  },
  {
   "cell_type": "code",
   "execution_count": 4,
   "metadata": {},
   "outputs": [
    {
     "data": {
      "text/plain": [
       "2"
      ]
     },
     "execution_count": 4,
     "metadata": {},
     "output_type": "execute_result"
    }
   ],
   "source": [
    "helper.page_count()"
   ]
  },
  {
   "cell_type": "code",
   "execution_count": 5,
   "metadata": {},
   "outputs": [
    {
     "data": {
      "text/plain": [
       "4"
      ]
     },
     "execution_count": 5,
     "metadata": {},
     "output_type": "execute_result"
    }
   ],
   "source": [
    "helper.page_item_count(0)"
   ]
  },
  {
   "cell_type": "code",
   "execution_count": 6,
   "metadata": {},
   "outputs": [
    {
     "data": {
      "text/plain": [
       "2"
      ]
     },
     "execution_count": 6,
     "metadata": {},
     "output_type": "execute_result"
    }
   ],
   "source": [
    "helper.page_item_count(1) # last page - should == 2\n"
   ]
  },
  {
   "cell_type": "code",
   "execution_count": 7,
   "metadata": {},
   "outputs": [
    {
     "data": {
      "text/plain": [
       "-1"
      ]
     },
     "execution_count": 7,
     "metadata": {},
     "output_type": "execute_result"
    }
   ],
   "source": [
    "helper.page_item_count(2) # should == -1 since the page is invalid"
   ]
  },
  {
   "cell_type": "code",
   "execution_count": 8,
   "metadata": {},
   "outputs": [
    {
     "data": {
      "text/plain": [
       "1"
      ]
     },
     "execution_count": 8,
     "metadata": {},
     "output_type": "execute_result"
    }
   ],
   "source": [
    "helper.page_index(5) # should == 1 (zero based index)"
   ]
  },
  {
   "cell_type": "code",
   "execution_count": 9,
   "metadata": {},
   "outputs": [
    {
     "data": {
      "text/plain": [
       "0"
      ]
     },
     "execution_count": 9,
     "metadata": {},
     "output_type": "execute_result"
    }
   ],
   "source": [
    "helper.page_index(2) # should == 0\n"
   ]
  },
  {
   "cell_type": "code",
   "execution_count": 10,
   "metadata": {},
   "outputs": [
    {
     "data": {
      "text/plain": [
       "-1"
      ]
     },
     "execution_count": 10,
     "metadata": {},
     "output_type": "execute_result"
    }
   ],
   "source": [
    "helper.page_index(20) # should == -1\n"
   ]
  },
  {
   "cell_type": "code",
   "execution_count": 11,
   "metadata": {},
   "outputs": [
    {
     "data": {
      "text/plain": [
       "-1"
      ]
     },
     "execution_count": 11,
     "metadata": {},
     "output_type": "execute_result"
    }
   ],
   "source": [
    "helper.page_index(-10) # should == -1 because negative indexes are invalid"
   ]
  },
  {
   "cell_type": "code",
   "execution_count": 12,
   "metadata": {},
   "outputs": [],
   "source": [
    "collection = range(1,25)\n",
    "helper = PaginationHelper(collection, 10)\n",
    "\n"
   ]
  },
  {
   "cell_type": "code",
   "execution_count": 13,
   "metadata": {},
   "outputs": [
    {
     "data": {
      "text/plain": [
       "3"
      ]
     },
     "execution_count": 13,
     "metadata": {},
     "output_type": "execute_result"
    }
   ],
   "source": [
    "helper.page_count()#3, 'page_count is returning\n"
   ]
  },
  {
   "cell_type": "code",
   "execution_count": 14,
   "metadata": {},
   "outputs": [
    {
     "data": {
      "text/plain": [
       "2"
      ]
     },
     "execution_count": 14,
     "metadata": {},
     "output_type": "execute_result"
    }
   ],
   "source": [
    "helper.page_index(23)#2, 'page_index returned incorrect value')\n"
   ]
  },
  {
   "cell_type": "code",
   "execution_count": 15,
   "metadata": {},
   "outputs": [
    {
     "data": {
      "text/plain": [
       "24"
      ]
     },
     "execution_count": 15,
     "metadata": {},
     "output_type": "execute_result"
    }
   ],
   "source": [
    "helper.item_count()#24, 'item_count returned incorrect value')"
   ]
  },
  {
   "cell_type": "code",
   "execution_count": null,
   "metadata": {},
   "outputs": [],
   "source": []
  }
 ],
 "metadata": {
  "kernelspec": {
   "display_name": "Python [conda env:.conda-learn-env] *",
   "language": "python",
   "name": "conda-env-.conda-learn-env-py"
  },
  "language_info": {
   "codemirror_mode": {
    "name": "ipython",
    "version": 3
   },
   "file_extension": ".py",
   "mimetype": "text/x-python",
   "name": "python",
   "nbconvert_exporter": "python",
   "pygments_lexer": "ipython3",
   "version": "3.6.6"
  }
 },
 "nbformat": 4,
 "nbformat_minor": 2
}
