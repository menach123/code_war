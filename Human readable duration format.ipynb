{
 "cells": [
  {
   "cell_type": "markdown",
   "metadata": {},
   "source": [
    "Your task in order to complete this Kata is to write a function which formats a duration, given as a number of seconds, in a human-friendly way.\n",
    "\n",
    "The function must accept a non-negative integer. If it is zero, it just returns \"now\". Otherwise, the duration is expressed as a combination of years, days, hours, minutes and seconds.\n",
    "\n",
    "It is much easier to understand with an example:\n",
    "```\n",
    "format_duration(62)    # returns \"1 minute and 2 seconds\"\n",
    "format_duration(3662)  # returns \"1 hour, 1 minute and 2 seconds\"\n",
    "For the purpose of this Kata, a year is 365 days and a day is 24 hours.\n",
    "```\n",
    "Note that spaces are important.\n",
    "\n",
    "Detailed rules\n",
    "The resulting expression is made of components like 4 seconds, 1 year, etc. In general, a positive integer and one of the valid units of time, separated by a space. The unit of time is used in plural if the integer is greater than 1.\n",
    "\n",
    "The components are separated by a comma and a space (\", \"). Except the last component, which is separated by \" and \", just like it would be written in English.\n",
    "\n",
    "A more significant units of time will occur before than a least significant one. Therefore, 1 second and 1 year is not correct, but 1 year and 1 second is.\n",
    "\n",
    "Different components have different unit of times. So there is not repeated units like in 5 seconds and 1 second.\n",
    "\n",
    "A component will not appear at all if its value happens to be zero. Hence, 1 minute and 0 seconds is not valid, but it should be just 1 minute.\n",
    "\n",
    "A unit of time must be used \"as much as possible\". It means that the function should not return 61 seconds, but 1 minute and 1 second instead. Formally, the duration specified by of a component must not be greater than any valid more significant unit of time."
   ]
  },
  {
   "cell_type": "code",
   "execution_count": 1,
   "metadata": {},
   "outputs": [],
   "source": [
    "def format_duration(seconds):\n",
    "    time_to = {'year':365* 24* 60 * 60, 'day':24*60*60, 'hour':60*60, 'minute': 60, 'second':1}\n",
    "    list_ = [seconds//time_to[i] for i in time_to.keys()] # number of unit given seconds\n",
    "    units = [i for i in time_to.keys()] # list in units in order\n",
    "    collecting_value = [list_[0]] #\n",
    "    for i in range(1,len(units)):\n",
    "        ratio = time_to[units[i-1]]/ time_to[units[i]]\n",
    "        list_[i] - ratio* list_[i-1]\n",
    "        collecting_value.append(list_[i] - ratio* list_[i-1])\n",
    "    list_=[]\n",
    "    for i,j in zip(collecting_value, units):\n",
    "        if i ==1: \n",
    "            list_.append(f\"{int(i)} {j}\")\n",
    "        if i >1:\n",
    "            list_.append(f\"{int(i)} {j}s\")\n",
    "    if list_ == []:\n",
    "        return 'now'\n",
    "    string = list_[-1]\n",
    "    if len(list_)>1:\n",
    "        string = list_[-2]+ ' and '+ string\n",
    "    return''.join([i+ ', ' for i in list_[:-2]])+string"
   ]
  },
  {
   "cell_type": "code",
   "execution_count": 2,
   "metadata": {},
   "outputs": [
    {
     "data": {
      "text/plain": [
       "'1 second'"
      ]
     },
     "execution_count": 2,
     "metadata": {},
     "output_type": "execute_result"
    }
   ],
   "source": [
    "format_duration(1)# \"1 second\")"
   ]
  },
  {
   "cell_type": "code",
   "execution_count": 3,
   "metadata": {},
   "outputs": [
    {
     "data": {
      "text/plain": [
       "'1 minute and 2 seconds'"
      ]
     },
     "execution_count": 3,
     "metadata": {},
     "output_type": "execute_result"
    }
   ],
   "source": [
    "format_duration(62)#\"1 minute and 2 seconds\")"
   ]
  },
  {
   "cell_type": "code",
   "execution_count": 4,
   "metadata": {},
   "outputs": [
    {
     "data": {
      "text/plain": [
       "'2 minutes'"
      ]
     },
     "execution_count": 4,
     "metadata": {},
     "output_type": "execute_result"
    }
   ],
   "source": [
    "format_duration(120)#\"2 minutes\")"
   ]
  },
  {
   "cell_type": "code",
   "execution_count": 5,
   "metadata": {},
   "outputs": [
    {
     "data": {
      "text/plain": [
       "'1 hour'"
      ]
     },
     "execution_count": 5,
     "metadata": {},
     "output_type": "execute_result"
    }
   ],
   "source": [
    "format_duration(3600)#\"1 hour\")"
   ]
  },
  {
   "cell_type": "code",
   "execution_count": 6,
   "metadata": {},
   "outputs": [
    {
     "data": {
      "text/plain": [
       "'1 hour, 1 minute and 2 seconds'"
      ]
     },
     "execution_count": 6,
     "metadata": {},
     "output_type": "execute_result"
    }
   ],
   "source": [
    "format_duration(3662)#\"1 hour, 1 minute and 2 seconds\")"
   ]
  },
  {
   "cell_type": "code",
   "execution_count": null,
   "metadata": {},
   "outputs": [],
   "source": []
  }
 ],
 "metadata": {
  "kernelspec": {
   "display_name": "Python [conda env:.conda-learn-env] *",
   "language": "python",
   "name": "conda-env-.conda-learn-env-py"
  },
  "language_info": {
   "codemirror_mode": {
    "name": "ipython",
    "version": 3
   },
   "file_extension": ".py",
   "mimetype": "text/x-python",
   "name": "python",
   "nbconvert_exporter": "python",
   "pygments_lexer": "ipython3",
   "version": "3.6.6"
  }
 },
 "nbformat": 4,
 "nbformat_minor": 2
}
