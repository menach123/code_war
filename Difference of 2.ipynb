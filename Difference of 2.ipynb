{
 "cells": [
  {
   "cell_type": "markdown",
   "metadata": {},
   "source": [
    "The objective is to return all pairs of integers from a given collection of integers that have a difference of 2.\n",
    "\n",
    "The result should be sorted in ascending order.\n",
    "\n",
    "The input will consist of unique values. The order of the integers in the input collection should not matter.\n",
    "\n",
    "### Examples\n",
    "```\n",
    "[1, 2, 3, 4]      -->  [[1, 3], [2, 4]]\n",
    "[4, 1, 2, 3]      -->  [[1, 3], [2, 4]]\n",
    "[1, 23, 3, 4, 7]  -->  [[1, 3]]\n",
    "[4, 3, 1, 5, 6]   -->  [[1, 3], [3, 5], [4, 6]]\n",
    "```"
   ]
  },
  {
   "cell_type": "code",
   "execution_count": 48,
   "metadata": {},
   "outputs": [],
   "source": [
    "def twos_difference(lst): \n",
    "    end = []\n",
    "    for i in range(0,len(lst)-1):\n",
    "        for j in lst[i+1:]:\n",
    "            if abs(j - lst[i]) == 2:\n",
    "                end.append(tuple(sorted((j, lst[i]))))\n",
    "    return sorted([i for i in set(end)])"
   ]
  },
  {
   "cell_type": "code",
   "execution_count": 49,
   "metadata": {},
   "outputs": [
    {
     "data": {
      "text/plain": [
       "1"
      ]
     },
     "execution_count": 49,
     "metadata": {},
     "output_type": "execute_result"
    }
   ],
   "source": [
    "twos_difference([1, 2, 3, 4]) == [(1, 3), (2, 4)]"
   ]
  },
  {
   "cell_type": "code",
   "execution_count": 50,
   "metadata": {},
   "outputs": [
    {
     "data": {
      "text/plain": [
       "[1, 2]"
      ]
     },
     "execution_count": 50,
     "metadata": {},
     "output_type": "execute_result"
    }
   ],
   "source": [
    "twos_difference([1, 3, 4, 6]) == [(1, 3), (4, 6)]"
   ]
  },
  {
   "cell_type": "code",
   "execution_count": 51,
   "metadata": {},
   "outputs": [],
   "source": [
    "twos_difference([0, 3, 1, 4]) == [(1, 3)]"
   ]
  },
  {
   "cell_type": "code",
   "execution_count": 52,
   "metadata": {},
   "outputs": [
    {
     "data": {
      "text/plain": [
       "[(1, 3), (2, 4)]"
      ]
     },
     "execution_count": 52,
     "metadata": {},
     "output_type": "execute_result"
    }
   ],
   "source": [
    "twos_difference([4, 1, 2, 3]) == [(1, 3), (2, 4)]"
   ]
  },
  {
   "cell_type": "code",
   "execution_count": 53,
   "metadata": {},
   "outputs": [
    {
     "data": {
      "text/plain": [
       "[(1, 3), (3, 5), (6, 8), (8, 10), (10, 12), (12, 14)]"
      ]
     },
     "execution_count": 53,
     "metadata": {},
     "output_type": "execute_result"
    }
   ],
   "source": [
    "twos_difference([6, 3, 4, 1, 5]) == [(1, 3), (3, 5), (4, 6)]"
   ]
  },
  {
   "cell_type": "code",
   "execution_count": 54,
   "metadata": {},
   "outputs": [
    {
     "data": {
      "text/plain": [
       "[(1, 3), (3, 5), (4, 6)]"
      ]
     },
     "execution_count": 54,
     "metadata": {},
     "output_type": "execute_result"
    }
   ],
   "source": [
    "twos_difference([6, 3, 4, 1, 5]) == [(1, 3), (3, 5), (4, 6)]"
   ]
  },
  {
   "cell_type": "code",
   "execution_count": 56,
   "metadata": {},
   "outputs": [
    {
     "data": {
      "text/plain": [
       "True"
      ]
     },
     "execution_count": 56,
     "metadata": {},
     "output_type": "execute_result"
    }
   ],
   "source": [
    "twos_difference([1, 3, 4, 6]) == [(1, 3), (4, 6)]"
   ]
  },
  {
   "cell_type": "code",
   "execution_count": null,
   "metadata": {},
   "outputs": [],
   "source": []
  }
 ],
 "metadata": {
  "kernelspec": {
   "display_name": "Python [conda env:.conda-learn-env] *",
   "language": "python",
   "name": "conda-env-.conda-learn-env-py"
  },
  "language_info": {
   "codemirror_mode": {
    "name": "ipython",
    "version": 3
   },
   "file_extension": ".py",
   "mimetype": "text/x-python",
   "name": "python",
   "nbconvert_exporter": "python",
   "pygments_lexer": "ipython3",
   "version": "3.6.6"
  }
 },
 "nbformat": 4,
 "nbformat_minor": 2
}
