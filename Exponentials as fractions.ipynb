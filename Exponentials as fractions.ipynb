{
 "cells": [
  {
   "cell_type": "markdown",
   "metadata": {},
   "source": [
    "### <a href=\"https://www.codewars.com/kata/54f5f22a00ecc4184c000034\">Exponentials as fractions</a>\n",
    "The aim is to calculate `exponential(x)` (written `exp(x)` in most math libraries) as an irreducible fraction, the numerator of this fraction having a given number of digits.\n",
    "\n",
    "We call this function expand, it takes two parameters, `x` of which we want to evaluate the exponential, `digits` which is the required number of digits for the numerator.\n",
    "\n",
    "The function `expand` will return an array of the form `[numerator, denominator]`; we stop the loop in the Taylor expansion (see references below) when the numerator has a number of digits `>=` the required number of digits\n",
    "\n",
    "### Examples:\n",
    "\n",
    "```python\n",
    "expand(1, 2) --> 65/24 (we will write this [65, 24] or (65, 24) in Haskell; \n",
    "65/24 ~ 2.708...)\n",
    "\n",
    "expand(2, 5) --> [20947, 2835]\n",
    "\n",
    "expand(3, 10) --> [7205850259, 358758400]\n",
    "\n",
    "expand(1.5, 10) --> [36185315027,8074035200]\n",
    "```\n",
    "\n",
    "**Note** `expand(1,5) = [109601, 40320]` is the same as `expand(1, 6)`\n",
    "\n",
    "#Method: As said above the way here is to use `Taylor expansion` of the exponential function though it is not always the best approximation by a rational.\n",
    "\n",
    "#References: https://en.wikipedia.org/wiki/Exponential_function#Formal_definition\n",
    "\n",
    "http://www.efunda.com/math/taylor_series/exponential.cfm"
   ]
  },
  {
   "cell_type": "code",
   "execution_count": 1,
   "metadata": {},
   "outputs": [],
   "source": [
    "from fractions import Fraction"
   ]
  },
  {
   "cell_type": "code",
   "execution_count": 2,
   "metadata": {},
   "outputs": [],
   "source": [
    "def expand(x, digit):\n",
    "    step = 0\n",
    "    fact = 1\n",
    "    expo = Fraction(1)\n",
    "    n = 10 ** len(str(x).split('.')[-1])\n",
    "    x = Fraction(int(x * n), n)\n",
    "    while expo.numerator < 10 ** (digit - 1):\n",
    "        step += 1\n",
    "        fact *= step\n",
    "        expo += x ** step / fact\n",
    "    return [expo.numerator, expo.denominator]"
   ]
  },
  {
   "cell_type": "code",
   "execution_count": 4,
   "metadata": {},
   "outputs": [
    {
     "data": {
      "text/plain": [
       "True"
      ]
     },
     "execution_count": 4,
     "metadata": {},
     "output_type": "execute_result"
    }
   ],
   "source": [
    "expand(1, 2) ==[65, 24]"
   ]
  },
  {
   "cell_type": "code",
   "execution_count": 5,
   "metadata": {},
   "outputs": [
    {
     "data": {
      "text/plain": [
       "True"
      ]
     },
     "execution_count": 5,
     "metadata": {},
     "output_type": "execute_result"
    }
   ],
   "source": [
    "expand(2, 5) == [20947, 2835]"
   ]
  },
  {
   "cell_type": "code",
   "execution_count": 6,
   "metadata": {},
   "outputs": [
    {
     "data": {
      "text/plain": [
       "True"
      ]
     },
     "execution_count": 6,
     "metadata": {},
     "output_type": "execute_result"
    }
   ],
   "source": [
    "expand(3, 10) == [7205850259, 358758400]"
   ]
  },
  {
   "cell_type": "code",
   "execution_count": 7,
   "metadata": {},
   "outputs": [
    {
     "data": {
      "text/plain": [
       "True"
      ]
     },
     "execution_count": 7,
     "metadata": {},
     "output_type": "execute_result"
    }
   ],
   "source": [
    "expand(1.5, 10) == [36185315027,8074035200]"
   ]
  }
 ],
 "metadata": {
  "kernelspec": {
   "display_name": "Python 3",
   "language": "python",
   "name": "python3"
  },
  "language_info": {
   "codemirror_mode": {
    "name": "ipython",
    "version": 3
   },
   "file_extension": ".py",
   "mimetype": "text/x-python",
   "name": "python",
   "nbconvert_exporter": "python",
   "pygments_lexer": "ipython3",
   "version": "3.6.6"
  }
 },
 "nbformat": 4,
 "nbformat_minor": 2
}
