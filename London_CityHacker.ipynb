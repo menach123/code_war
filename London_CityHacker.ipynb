{
  "nbformat": 4,
  "nbformat_minor": 0,
  "metadata": {
    "colab": {
      "name": "London CityHacker.ipynb",
      "provenance": [],
      "authorship_tag": "ABX9TyMSdaMLoDZ4mcT3JMJsXOP0",
      "include_colab_link": true
    },
    "kernelspec": {
      "name": "python3",
      "display_name": "Python 3"
    }
  },
  "cells": [
    {
      "cell_type": "markdown",
      "metadata": {
        "id": "view-in-github",
        "colab_type": "text"
      },
      "source": [
        "<a href=\"https://colab.research.google.com/github/menach123/code_war/blob/master/London_CityHacker.ipynb\" target=\"_parent\"><img src=\"https://colab.research.google.com/assets/colab-badge.svg\" alt=\"Open In Colab\"/></a>"
      ]
    },
    {
      "cell_type": "markdown",
      "metadata": {
        "id": "rnPNzrzKMf8V",
        "colab_type": "text"
      },
      "source": [
        "### London CityHacker\n",
        "\n",
        "You are given a sequence of a journey in London, UK. The sequence will contain bus **numbers** and TFL tube names as **strings** e.g.\n",
        "```\n",
        "['Northern', 'Central', 243, 1, 'Victoria']\n",
        "```\n",
        "Journeys will always only contain a combination of tube names and bus numbers. Each tube journey costs `£2.40` and each bus journey costs `£1.50`. If there are `2` or more adjacent bus journeys, the bus fare is capped for sets of two adjacent buses and calculated as one bus fare for each set.\n",
        "\n",
        "Your task is to calculate the total cost of the journey and return the cost `rounded to 2 decimal places` in the format (where x is a number): `£x.xx`"
      ]
    },
    {
      "cell_type": "code",
      "metadata": {
        "id": "cW8fHb3b27Qd",
        "colab_type": "code",
        "colab": {}
      },
      "source": [
        "def london_city_hacker(journey): \n",
        "    # List of costs\n",
        "\n",
        "    cost_list = [2.40 if type(i) == str else 1.50 for i in journey]\n",
        "\n",
        "    # Removing bus duplicate fares\n",
        "    for i in range(1,len(cost_list)):\n",
        "        \n",
        "        if (cost_list[i-1]*10% 15 ==0) & (cost_list[i] == 1.50):\n",
        "            cost_list[i-1] =.75\n",
        "            cost_list[i] =.75 \n",
        "              \n",
        "    # Summing and Rounding Cost\n",
        "    \n",
        "    cost = str(round(float(sum(cost_list)), 2))\n",
        "    \n",
        "    return \"£\"+ cost+\"0\" if len(cost.split('.')[-1]) == 1 else \"£\"+ cost"
      ],
      "execution_count": 1,
      "outputs": []
    },
    {
      "cell_type": "code",
      "metadata": {
        "id": "Nu-zr_iv29-_",
        "colab_type": "code",
        "colab": {}
      },
      "source": [
        "journey = [12, 'Central', 'Circle', 21]"
      ],
      "execution_count": 2,
      "outputs": []
    },
    {
      "cell_type": "code",
      "metadata": {
        "id": "J55x5fJ23ESp",
        "colab_type": "code",
        "colab": {
          "base_uri": "https://localhost:8080/",
          "height": 52
        },
        "outputId": "ad1beaba-2c83-4c6a-dfdf-f226e54f7b69"
      },
      "source": [
        "# determine the how string detection strategy will work.\n",
        "\n",
        "for i in journey:\n",
        "    if type(i) is str:\n",
        "        print(i)"
      ],
      "execution_count": 3,
      "outputs": [
        {
          "output_type": "stream",
          "text": [
            "Central\n",
            "Circle\n"
          ],
          "name": "stdout"
        }
      ]
    },
    {
      "cell_type": "code",
      "metadata": {
        "id": "7AGwH26oIVXK",
        "colab_type": "code",
        "colab": {
          "base_uri": "https://localhost:8080/",
          "height": 34
        },
        "outputId": "54385838-30ba-4b6e-c466-3cf3f68a3ad6"
      },
      "source": [
        "london_city_hacker([12, 'Central', 'Circle', 21]), \"£7.80\""
      ],
      "execution_count": 4,
      "outputs": [
        {
          "output_type": "execute_result",
          "data": {
            "text/plain": [
              "('£7.80', '£7.80')"
            ]
          },
          "metadata": {
            "tags": []
          },
          "execution_count": 4
        }
      ]
    },
    {
      "cell_type": "code",
      "metadata": {
        "id": "Sbc9UqxFMWWn",
        "colab_type": "code",
        "colab": {
          "base_uri": "https://localhost:8080/",
          "height": 34
        },
        "outputId": "242e691b-e3f0-469b-c1f5-e359ff87393d"
      },
      "source": [
        "london_city_hacker(['Northern', 'Central', 'Circle']), \"£7.20\""
      ],
      "execution_count": 5,
      "outputs": [
        {
          "output_type": "execute_result",
          "data": {
            "text/plain": [
              "('£7.20', '£7.20')"
            ]
          },
          "metadata": {
            "tags": []
          },
          "execution_count": 5
        }
      ]
    },
    {
      "cell_type": "code",
      "metadata": {
        "id": "7YtJ7aMxMWMu",
        "colab_type": "code",
        "colab": {
          "base_uri": "https://localhost:8080/",
          "height": 34
        },
        "outputId": "834da49b-f327-48a7-e635-d8d6e4897fc6"
      },
      "source": [
        "london_city_hacker(['Piccidilly', 56, 93, 243]), \"£5.40\""
      ],
      "execution_count": 6,
      "outputs": [
        {
          "output_type": "execute_result",
          "data": {
            "text/plain": [
              "('£5.40', '£5.40')"
            ]
          },
          "metadata": {
            "tags": []
          },
          "execution_count": 6
        }
      ]
    },
    {
      "cell_type": "code",
      "metadata": {
        "id": "j2vmUz9aMWAv",
        "colab_type": "code",
        "colab": {
          "base_uri": "https://localhost:8080/",
          "height": 34
        },
        "outputId": "4da00a39-703c-44b1-c97d-1b858b4ab3fa"
      },
      "source": [
        "london_city_hacker([386, 56, 1, 876]), \"£3.00\""
      ],
      "execution_count": 7,
      "outputs": [
        {
          "output_type": "execute_result",
          "data": {
            "text/plain": [
              "('£3.00', '£3.00')"
            ]
          },
          "metadata": {
            "tags": []
          },
          "execution_count": 7
        }
      ]
    }
  ]
}