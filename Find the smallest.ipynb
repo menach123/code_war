{
 "cells": [
  {
   "cell_type": "markdown",
   "metadata": {},
   "source": [
    "You have a positive number n consisting of digits. You can do at most one operation: Choosing the index of a digit in the number, remove this digit at that index and insert it back to another or at the same place in the number in order to find the smallest number you can get.\n",
    "\n",
    "#Task: Return an array or a tuple or a string depending on the language (see \"Sample Tests\") with\n",
    "\n",
    "* 1) the smallest number you got\n",
    "* 2) the index i of the digit d you took, i as small as possible\n",
    "* 3) the index j (as small as possible) where you insert this digit d to have the smallest number\n",
    "\n",
    "#### Example:\n",
    "\n",
    "```\n",
    "smallest(261235) --> [126235, 2, 0] or (126235, 2, 0) or \"126235, 2, 0\"\n",
    "```\n",
    "\n",
    "126235 is the smallest number gotten by taking 1 at index 2 and putting it at index 0\n",
    "\n",
    "```\n",
    "smallest(209917) --> [29917, 0, 1] or ...\n",
    "\n",
    "[29917, 1, 0] could be a solution too but index `i` in [29917, 1, 0] is greater than \n",
    "index `i` in [29917, 0, 1].\n",
    "```\n",
    "\n",
    "29917 is the smallest number gotten by taking 2 at index 0 and putting it at index 1 which gave 029917 which is the number 29917.\n",
    "\n",
    "```\n",
    "smallest(1000000) --> [1, 0, 6] or ...\n",
    "```"
   ]
  },
  {
   "cell_type": "code",
   "execution_count": 1,
   "metadata": {},
   "outputs": [],
   "source": [
    "def smallest(n):\n",
    "    s = str(n)\n",
    "    min1, from1, to1 = n, 0, 0\n",
    "    for i in range(len(s)):\n",
    "        removed = s[:i] + s[i+1:]\n",
    "        for j in range(len(removed)+1):\n",
    "            num = int(removed[:j] + s[i] + removed[j:])\n",
    "            if (num < min1):\n",
    "                min1, from1, to1 = num, i, j\n",
    "    return [min1, from1, to1]"
   ]
  },
  {
   "cell_type": "code",
   "execution_count": null,
   "metadata": {},
   "outputs": [],
   "source": []
  }
 ],
 "metadata": {
  "kernelspec": {
   "display_name": "Python [conda env:.conda-learn-env] *",
   "language": "python",
   "name": "conda-env-.conda-learn-env-py"
  },
  "language_info": {
   "codemirror_mode": {
    "name": "ipython",
    "version": 3
   },
   "file_extension": ".py",
   "mimetype": "text/x-python",
   "name": "python",
   "nbconvert_exporter": "python",
   "pygments_lexer": "ipython3",
   "version": "3.6.6"
  }
 },
 "nbformat": 4,
 "nbformat_minor": 2
}
