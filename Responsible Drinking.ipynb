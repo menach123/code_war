{
 "cells": [
  {
   "cell_type": "markdown",
   "metadata": {},
   "source": [
    "## Welcome to the Codewars Bar!\n",
    "Codewars Bar recommends you drink 1 glass of water per standard drink so you're not hungover tomorrow morning.\n",
    "\n",
    "Your fellow coders have bought you several drinks tonight in the form of a string. Return a string suggesting how many glasses of water you should drink to not be hungover.\n",
    "\n",
    "### Example parties:\n",
    "### Input 0:\n",
    "```\"1 beer\"\n",
    "```\n",
    "### Output 0:\n",
    "```\"1 glass of water\"\n",
    "```\n",
    "### Explaination 0:\n",
    "You drank one standard drink\n",
    "\n",
    "### Input 1:\n",
    "```\"1 shot, 5 beers, 2 shots, 1 glass of wine, 1 beer\"```\n",
    "### Output 1:\n",
    "```\"10 glasses of water\"\n",
    "```\n",
    "### Explaination 1:\n",
    "You drank ten standard drinks\n",
    "\n",
    "#### Note:\n",
    "\n",
    "To keep the things simple, we'll considere that any \"numbered thing\" in the string is a drink. Even ```\"1 bear\" => \"1 glass of water\"``` or ```\"1 chainsaw and 2 pools\" => \"3 glasses of water\"```..."
   ]
  },
  {
   "cell_type": "code",
   "execution_count": 1,
   "metadata": {},
   "outputs": [],
   "source": [
    "a = \"1 shot, 5 beers, 2 shots, 1 glass of wine, 1 beer\""
   ]
  },
  {
   "cell_type": "code",
   "execution_count": 2,
   "metadata": {},
   "outputs": [
    {
     "data": {
      "text/plain": [
       "'10'"
      ]
     },
     "execution_count": 2,
     "metadata": {},
     "output_type": "execute_result"
    }
   ],
   "source": [
    "str(sum([int(i.split(' ')[0]) for i in a.split(', ')]))+ ''"
   ]
  },
  {
   "cell_type": "code",
   "execution_count": 3,
   "metadata": {},
   "outputs": [
    {
     "data": {
      "text/plain": [
       "1"
      ]
     },
     "execution_count": 3,
     "metadata": {},
     "output_type": "execute_result"
    }
   ],
   "source": [
    "1 if sum([int(i.split(' ')[0]) for i in a.split(', ')]) > 1 else 2"
   ]
  },
  {
   "cell_type": "code",
   "execution_count": 12,
   "metadata": {},
   "outputs": [],
   "source": [
    "def hydrate(drink_string): \n",
    "    drink_string = drink_string.replace(' and ', ', ' )\n",
    "    drink_string = [int(i.split(' ')[0]) for i in drink_string.split(', ')]\n",
    "    return str(sum(drink_string))+ (' glasses of water' if sum(drink_string) > 1 else ' glass of water')"
   ]
  },
  {
   "cell_type": "code",
   "execution_count": 13,
   "metadata": {},
   "outputs": [
    {
     "data": {
      "text/plain": [
       "'1 glass of water'"
      ]
     },
     "execution_count": 13,
     "metadata": {},
     "output_type": "execute_result"
    }
   ],
   "source": [
    "hydrate(\"1 beer\")# \"1 glass of water\""
   ]
  },
  {
   "cell_type": "code",
   "execution_count": 14,
   "metadata": {},
   "outputs": [
    {
     "data": {
      "text/plain": [
       "'10 glasses of water'"
      ]
     },
     "execution_count": 14,
     "metadata": {},
     "output_type": "execute_result"
    }
   ],
   "source": [
    "hydrate(\"1 shot, 5 beers, 2 shots, 1 glass of wine, 1 beer\")# \"10 glasses of water\""
   ]
  },
  {
   "cell_type": "code",
   "execution_count": 15,
   "metadata": {},
   "outputs": [
    {
     "data": {
      "text/plain": [
       "'3 glasses of water'"
      ]
     },
     "execution_count": 15,
     "metadata": {},
     "output_type": "execute_result"
    }
   ],
   "source": [
    "hydrate('2 glasses of wine and 1 shot')"
   ]
  },
  {
   "cell_type": "code",
   "execution_count": null,
   "metadata": {},
   "outputs": [],
   "source": []
  }
 ],
 "metadata": {
  "kernelspec": {
   "display_name": "Python 3",
   "language": "python",
   "name": "python3"
  },
  "language_info": {
   "codemirror_mode": {
    "name": "ipython",
    "version": 3
   },
   "file_extension": ".py",
   "mimetype": "text/x-python",
   "name": "python",
   "nbconvert_exporter": "python",
   "pygments_lexer": "ipython3",
   "version": "3.7.4"
  }
 },
 "nbformat": 4,
 "nbformat_minor": 2
}
