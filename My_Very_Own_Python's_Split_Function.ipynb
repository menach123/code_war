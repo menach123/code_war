{
  "nbformat": 4,
  "nbformat_minor": 0,
  "metadata": {
    "colab": {
      "name": "My Very Own Python's Split Function.ipynb",
      "provenance": [],
      "collapsed_sections": []
    },
    "kernelspec": {
      "name": "python3",
      "display_name": "Python 3"
    }
  },
  "cells": [
    {
      "cell_type": "markdown",
      "metadata": {
        "id": "Mwzktlfw_AOH",
        "colab_type": "text"
      },
      "source": [
        "\n",
        "### <a href=\"https://www.codewars.com/kata/55e0467217adf9c3690000f9/train/python\">My Very Own Python's Split Function</a>\n",
        "\n",
        "Quite recently it happened to me to join some recruitment interview, where my first task was to write own implementation of built-in split function. It's quite simple, is it not?\n",
        "\n",
        "However, there were the following conditions:\n",
        "\n",
        "\n",
        "* the function cannot use, in any way, the original ```split``` or ```rsplit``` functions,\n",
        "* the new function must be a generator,\n",
        "* it should behave as the built-in ```split```, so it will be tested that way -- think of ```split()``` and ```split('')```\n",
        "\n",
        "***This Kata will control if the new function is a generator and if it's not using the built-in split method, so you may try to hack it, but let me know if with success, or if something would go wrong!***\n",
        "\n",
        "Enjoy!\n",
        "\n"
      ]
    },
    {
      "cell_type": "code",
      "metadata": {
        "id": "tJOYfaGI_BRA",
        "colab_type": "code",
        "colab": {}
      },
      "source": [
        "def my_very_own_split(string, delimiter = None):\n",
        "    # Identify indices where the delimiter are in the string\n",
        "    if delimiter == None:\n",
        "        delimiter = ' '\n",
        "        string = string.replace('/t', ' ')\n",
        "        string = string.replace('  ', '-')\n",
        "    print(string)\n",
        "    length_of_delimiter = len(delimiter)\n",
        "    position = [-length_of_delimiter]+ [i for i in range(len(string)) if string[i: i+length_of_delimiter] == delimiter]+ [None]\n",
        "    for i, j in zip(position[:-1], position[1:]):\n",
        "        # if i+length_of_delimiter == j:\n",
        "        #     continue\n",
        "        yield string[i+length_of_delimiter: j]"
      ],
      "execution_count": 0,
      "outputs": []
    },
    {
      "cell_type": "code",
      "metadata": {
        "id": "hEurRMSdEAnn",
        "colab_type": "code",
        "colab": {
          "base_uri": "https://localhost:8080/",
          "height": 68
        },
        "outputId": "e45bebf0-d253-442b-8da2-183643713a89"
      },
      "source": [
        "s, d = 'abc,def,ghi', ','\n",
        "print(['abc', 'def', 'ghi'])\n",
        "[i for i in my_very_own_split(s, d)]"
      ],
      "execution_count": 2,
      "outputs": [
        {
          "output_type": "stream",
          "text": [
            "['abc', 'def', 'ghi']\n",
            "abc,def,ghi\n"
          ],
          "name": "stdout"
        },
        {
          "output_type": "execute_result",
          "data": {
            "text/plain": [
              "['abc', 'def', 'ghi']"
            ]
          },
          "metadata": {
            "tags": []
          },
          "execution_count": 2
        }
      ]
    },
    {
      "cell_type": "code",
      "metadata": {
        "id": "UqJdcL0WEG4D",
        "colab_type": "code",
        "colab": {
          "base_uri": "https://localhost:8080/",
          "height": 68
        },
        "outputId": "c3fb81ca-cc6f-4d3b-c7b0-1577af595946"
      },
      "source": [
        "s, d = 'This is a test', ' '\n",
        "print(['This', 'is', 'a', 'test'])\n",
        "[i for i in my_very_own_split(s, d)]"
      ],
      "execution_count": 3,
      "outputs": [
        {
          "output_type": "stream",
          "text": [
            "['This', 'is', 'a', 'test']\n",
            "This is a test\n"
          ],
          "name": "stdout"
        },
        {
          "output_type": "execute_result",
          "data": {
            "text/plain": [
              "['This', 'is', 'a', 'test']"
            ]
          },
          "metadata": {
            "tags": []
          },
          "execution_count": 3
        }
      ]
    },
    {
      "cell_type": "code",
      "metadata": {
        "id": "2zMCJkJHEZGe",
        "colab_type": "code",
        "colab": {
          "base_uri": "https://localhost:8080/",
          "height": 68
        },
        "outputId": "fe67bfd5-c07f-4f03-d0ee-369fe056d175"
      },
      "source": [
        "s, d = 'This is a test', ','\n",
        "print(['This is a test'])\n",
        "[i for i in my_very_own_split(s, d)]"
      ],
      "execution_count": 4,
      "outputs": [
        {
          "output_type": "stream",
          "text": [
            "['This is a test']\n",
            "This is a test\n"
          ],
          "name": "stdout"
        },
        {
          "output_type": "execute_result",
          "data": {
            "text/plain": [
              "['This is a test']"
            ]
          },
          "metadata": {
            "tags": []
          },
          "execution_count": 4
        }
      ]
    },
    {
      "cell_type": "code",
      "metadata": {
        "id": "g1XhNWp7FjHa",
        "colab_type": "code",
        "colab": {
          "base_uri": "https://localhost:8080/",
          "height": 68
        },
        "outputId": "2e14ca82-8cd8-4b6f-84ed-3aa6165c1b76"
      },
      "source": [
        "s, d = 'abc,#def#,ghi,#jkl', ',#'\n",
        "print(['abc', 'def#,ghi', 'jkl'])\n",
        "[i for i in my_very_own_split(s, d)]"
      ],
      "execution_count": 5,
      "outputs": [
        {
          "output_type": "stream",
          "text": [
            "['abc', 'def#,ghi', 'jkl']\n",
            "abc,#def#,ghi,#jkl\n"
          ],
          "name": "stdout"
        },
        {
          "output_type": "execute_result",
          "data": {
            "text/plain": [
              "['abc', 'def#,ghi', 'jkl']"
            ]
          },
          "metadata": {
            "tags": []
          },
          "execution_count": 5
        }
      ]
    },
    {
      "cell_type": "code",
      "metadata": {
        "id": "LhjReTc-K1mX",
        "colab_type": "code",
        "colab": {
          "base_uri": "https://localhost:8080/",
          "height": 68
        },
        "outputId": "845ce02d-c357-41db-e26f-f5da4b3fa3b4"
      },
      "source": [
        "s, d = 'abc,#def#,ghi,#jkl', ',#'\n",
        "print(['abc', 'def#,ghi', 'jkl'])\n",
        "[i for i in my_very_own_split(s, d)]"
      ],
      "execution_count": 6,
      "outputs": [
        {
          "output_type": "stream",
          "text": [
            "['abc', 'def#,ghi', 'jkl']\n",
            "abc,#def#,ghi,#jkl\n"
          ],
          "name": "stdout"
        },
        {
          "output_type": "execute_result",
          "data": {
            "text/plain": [
              "['abc', 'def#,ghi', 'jkl']"
            ]
          },
          "metadata": {
            "tags": []
          },
          "execution_count": 6
        }
      ]
    },
    {
      "cell_type": "markdown",
      "metadata": {
        "id": "545O35-YOpPe",
        "colab_type": "text"
      },
      "source": [
        ""
      ]
    }
  ]
}