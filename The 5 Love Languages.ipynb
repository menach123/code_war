{
 "cells": [
  {
   "cell_type": "markdown",
   "metadata": {},
   "source": [
    "According to Gary Chapman, marriage counselor and the author of \"The Five Love Languages\" books, there are five major ways to express our love towards someone: words of affirmation, quality time, gifts, acts of service, and physical touch. These are called the love languages. Usually, everyone has a main language: the one that he/she \"speaks\" and understands best. In a relationship, it's import to find your partner's main love language, so that you get along better with each other.\n",
    "\n",
    "#### Your task\n",
    "Unfortunately, your relationship got worse lately... After a long discussion with your partner, you agreed to give yourself a few weeks to improve it, otherwise you split up...\n",
    "\n",
    "You will be given a ```partner``` instance, and ```n``` weeks. The ```partner``` has a ```.response``` method, and the responses may be: ```\"positive\"``` or ```\"neutral\"```. You have ```n * 7``` tries (= ```n``` weeks) to find the main love language of you partner!\n",
    "\n",
    "The love languages are: ```\"words\", \"acts\", \"gifts\", \"time\", \"touch\" ```(available predefined as LOVE_LANGUAGES)\n",
    "\n",
    "Note: your partner may (and will) sometimes give a positive response to any love language (\"false positive\"), but the main one has a much higher possibility. On the other hand, you may get a neutral response even for the main language, but with a low possibility (\"false negative\").\n",
    "\n",
    "There will be 50 tests. Although it's difficult to fail, in case you get unlucky, just run the tests again. After all, a few weeks may not be enough...\n",
    "\n",
    "#### Examples\n",
    "```\n",
    "main love language: \"words\"\n",
    "\n",
    "partner.response(\"words\") ==> \"positive\"\n",
    "partner.response(\"act\")   ==> \"neutral\"\n",
    "partner.response(\"words\") ==> \"positive\"\n",
    "partner.response(\"time\")  ==> \"neutral\"\n",
    "partner.response(\"acts\")  ==> \"positive\"    # false positive\n",
    "partner.response(\"gifts\") ==> \"neutral\"\n",
    "partner.response(\"words\") ==> \"neutral\"     # false negative\n",
    "etc.\n",
    "```\n",
    "Happy coding, and **DO** try this at home! :-)"
   ]
  },
  {
   "cell_type": "code",
   "execution_count": 1,
   "metadata": {},
   "outputs": [],
   "source": [
    "import random\n",
    "['words', 'acts', 'gifts', 'time', 'touch']\n",
    "# example class\n",
    "class TestPartner:\n",
    "    def __init__(self, main_lang):\n",
    "        self.main = main_lang\n",
    "    def response(self, language):\n",
    "        r = random.random()\n",
    "        if language == self.main:\n",
    "            if r < 0.85: return 'positive'\n",
    "            else:        return 'neutral'\n",
    "        else: # language != self.main\n",
    "            if r < 0.15: return 'positive'\n",
    "            else:        return 'neutral'"
   ]
  },
  {
   "cell_type": "code",
   "execution_count": 2,
   "metadata": {},
   "outputs": [],
   "source": [
    "LOVE_LANGUAGES = [\"words\", \"acts\", \"gifts\", \"time\", \"touch\"]\n",
    "def love_language(partner, weeks):\n",
    "    for i in range(0,(7* weeks)):\n",
    "        if partner.response(LOVE_LANGUAGES[i % 5]) == 'positive':\n",
    "            return partner.main\n"
   ]
  },
  {
   "cell_type": "code",
   "execution_count": 3,
   "metadata": {},
   "outputs": [
    {
     "data": {
      "text/plain": [
       "True"
      ]
     },
     "execution_count": 3,
     "metadata": {},
     "output_type": "execute_result"
    }
   ],
   "source": [
    "weeks = 6\n",
    "partner = TestPartner('words')\n",
    "love_language(partner, weeks) == 'words'"
   ]
  },
  {
   "cell_type": "code",
   "execution_count": 4,
   "metadata": {},
   "outputs": [
    {
     "data": {
      "text/plain": [
       "True"
      ]
     },
     "execution_count": 4,
     "metadata": {},
     "output_type": "execute_result"
    }
   ],
   "source": [
    "partner = TestPartner('gifts')\n",
    "love_language(partner, weeks) == 'gifts'"
   ]
  },
  {
   "cell_type": "code",
   "execution_count": 5,
   "metadata": {},
   "outputs": [],
   "source": [
    "def love_language(partner, weeks):\n",
    "    day = 0\n",
    "    langs = {}\n",
    "    while day < weeks * 7:\n",
    "        a = LOVE_LANGUAGES[day % 5]\n",
    "        print(a)\n",
    "        \n",
    "        if partner.response(a) == \"positive\":\n",
    "            langs[LOVE_LANGUAGES[day % 5]] = langs.get(LOVE_LANGUAGES[day % 5], 0) + 1\n",
    "        day += 1\n",
    "    return max(langs, key=langs.get)"
   ]
  },
  {
   "cell_type": "code",
   "execution_count": 6,
   "metadata": {},
   "outputs": [
    {
     "name": "stdout",
     "output_type": "stream",
     "text": [
      "words\n",
      "acts\n",
      "gifts\n",
      "time\n",
      "touch\n",
      "words\n",
      "acts\n",
      "gifts\n",
      "time\n",
      "touch\n",
      "words\n",
      "acts\n",
      "gifts\n",
      "time\n",
      "touch\n",
      "words\n",
      "acts\n",
      "gifts\n",
      "time\n",
      "touch\n",
      "words\n",
      "acts\n",
      "gifts\n",
      "time\n",
      "touch\n",
      "words\n",
      "acts\n",
      "gifts\n",
      "time\n",
      "touch\n",
      "words\n",
      "acts\n",
      "gifts\n",
      "time\n",
      "touch\n",
      "words\n",
      "acts\n",
      "gifts\n",
      "time\n",
      "touch\n",
      "words\n",
      "acts\n"
     ]
    },
    {
     "data": {
      "text/plain": [
       "'words'"
      ]
     },
     "execution_count": 6,
     "metadata": {},
     "output_type": "execute_result"
    }
   ],
   "source": [
    "weeks = 6\n",
    "partner = TestPartner('words')\n",
    "love_language(partner, weeks)#'words'"
   ]
  },
  {
   "cell_type": "markdown",
   "metadata": {},
   "source": [
    "### Actual Answer"
   ]
  },
  {
   "cell_type": "code",
   "execution_count": 7,
   "metadata": {},
   "outputs": [],
   "source": [
    "LOVE_LANGUAGES = [\"words\", \"acts\", \"gifts\", \"time\", \"touch\"]\n",
    "def love_language(partner, weeks):\n",
    "    lst =[LOVE_LANGUAGES[i % 5] for i in range(0,(7* weeks)) if partner.response(LOVE_LANGUAGES[i % 5]) == 'positive']\n",
    "    return max(set(lst), key=lst.count)            "
   ]
  },
  {
   "cell_type": "code",
   "execution_count": 8,
   "metadata": {},
   "outputs": [
    {
     "data": {
      "text/plain": [
       "'words'"
      ]
     },
     "execution_count": 8,
     "metadata": {},
     "output_type": "execute_result"
    }
   ],
   "source": [
    "weeks = 6\n",
    "partner = TestPartner('words')\n",
    "love_language(partner, weeks)#'words'"
   ]
  },
  {
   "cell_type": "code",
   "execution_count": 9,
   "metadata": {
    "scrolled": true
   },
   "outputs": [
    {
     "data": {
      "text/plain": [
       "True"
      ]
     },
     "execution_count": 9,
     "metadata": {},
     "output_type": "execute_result"
    }
   ],
   "source": [
    "partner = TestPartner('gifts')\n",
    "love_language(partner, weeks) == 'gifts'"
   ]
  },
  {
   "cell_type": "code",
   "execution_count": 11,
   "metadata": {},
   "outputs": [
    {
     "name": "stderr",
     "output_type": "stream",
     "text": [
      "warning: LF will be replaced by CRLF in Asterisk it.ipynb.\n",
      "The file will have its original line endings in your working directory\n",
      "warning: LF will be replaced by CRLF in .ipynb_checkpoints/The 5 Love Languages-checkpoint.ipynb.\n",
      "The file will have its original line endings in your working directory\n",
      "warning: LF will be replaced by CRLF in The 5 Love Languages.ipynb.\n",
      "The file will have its original line endings in your working directory\n"
     ]
    },
    {
     "name": "stdout",
     "output_type": "stream",
     "text": [
      "[master 28b2182] The 5 Love Languages\n",
      " 3 files changed, 425 insertions(+), 3 deletions(-)\n",
      " create mode 100644 .ipynb_checkpoints/The 5 Love Languages-checkpoint.ipynb\n",
      " create mode 100644 The 5 Love Languages.ipynb\n"
     ]
    },
    {
     "name": "stderr",
     "output_type": "stream",
     "text": [
      "To https://github.com/menach123/code_war.git\n",
      "   99c7a80..28b2182  master -> master\n"
     ]
    }
   ],
   "source": [
    "!git add . \n",
    "!git commit -m \"The 5 Love Languages\"\n",
    "!git push"
   ]
  },
  {
   "cell_type": "code",
   "execution_count": null,
   "metadata": {},
   "outputs": [],
   "source": []
  }
 ],
 "metadata": {
  "kernelspec": {
   "display_name": "Python [conda env:.conda-learn-env] *",
   "language": "python",
   "name": "conda-env-.conda-learn-env-py"
  },
  "language_info": {
   "codemirror_mode": {
    "name": "ipython",
    "version": 3
   },
   "file_extension": ".py",
   "mimetype": "text/x-python",
   "name": "python",
   "nbconvert_exporter": "python",
   "pygments_lexer": "ipython3",
   "version": "3.6.6"
  }
 },
 "nbformat": 4,
 "nbformat_minor": 2
}
