{
 "cells": [
  {
   "cell_type": "markdown",
   "metadata": {},
   "source": [
    "In this kata we want to convert a string into an integer. The strings simply represent the numbers in words.\n",
    "\n",
    "### Examples:\n",
    "\n",
    "* \"one\" => 1\n",
    "* \"twenty\" => 20\n",
    "* \"two hundred forty-six\" => 246\n",
    "* \"seven hundred eighty-three thousand nine hundred and nineteen\" => 783919\n",
    "### Additional Notes:\n",
    "\n",
    "* The minimum number is \"zero\" (inclusively)\n",
    "* The maximum number, which must be supported is 1 million (inclusively)\n",
    "* The \"and\" in e.g. \"one hundred and twenty-four\" is optional, in some cases it's present and in others it's not\n",
    "* All tested numbers are valid, you don't need to validate them"
   ]
  },
  {
   "cell_type": "code",
   "execution_count": 1,
   "metadata": {},
   "outputs": [],
   "source": [
    "a = {'one': 1,   'two': 2, 'three': 3, 'four': 4, 'five': 5, 'six': 6, \n",
    "    'seven': 7, 'eight': 8,  'nine': 9,  'ten': 10, 'eleven': 11, \n",
    "    'twelve': 12, 'thirteen': 13, 'fourteen': 14, 'fifteen': 15,\n",
    "    'sixteen': 16, 'seventeen': 17, 'eighteen': 18, 'nineteen': 19,\n",
    "    'twenty': 20, 'thirty': 30,  'forty': 40, 'fifty': 50, 'sixty': 60,\n",
    "    'seventy': 70, 'eighty': 80, 'ninety': 90, \"hundred\":100, \"thousand\": 1000,\n",
    "     \"million\":1000000}"
   ]
  },
  {
   "cell_type": "code",
   "execution_count": 2,
   "metadata": {},
   "outputs": [],
   "source": [
    "def tens(string):\n",
    "    if '-' in string:\n",
    "        string = a[string.split('-')[0]]+ a[string.split('-')[-1]]\n",
    "    else:\n",
    "        string = a[string]\n",
    "    \n",
    "    return string\n",
    "    "
   ]
  },
  {
   "cell_type": "code",
   "execution_count": 3,
   "metadata": {},
   "outputs": [
    {
     "name": "stdout",
     "output_type": "stream",
     "text": [
      "20\n",
      "46\n",
      "83\n"
     ]
    }
   ],
   "source": [
    "print(tens('twenty'))\n",
    "print(tens('forty-six'))\n",
    "print(tens('eighty-three'))"
   ]
  },
  {
   "cell_type": "code",
   "execution_count": 4,
   "metadata": {},
   "outputs": [],
   "source": [
    "def hundreds(string):\n",
    "    string = string.split(' hundred ')\n",
    "    x = a['hundred']\n",
    "    if len(string) == 1:\n",
    "        string = tens(string[0])\n",
    "    else:\n",
    "        string[0] = tens(string[0])*x \n",
    "        string[1] = tens(string[1])\n",
    "    return sum(string)"
   ]
  },
  {
   "cell_type": "code",
   "execution_count": 5,
   "metadata": {},
   "outputs": [
    {
     "data": {
      "text/plain": [
       "783"
      ]
     },
     "execution_count": 5,
     "metadata": {},
     "output_type": "execute_result"
    }
   ],
   "source": [
    "hundreds(\"seven hundred eighty-three\")"
   ]
  },
  {
   "cell_type": "code",
   "execution_count": 6,
   "metadata": {},
   "outputs": [
    {
     "data": {
      "text/plain": [
       "[['one million']]"
      ]
     },
     "execution_count": 6,
     "metadata": {},
     "output_type": "execute_result"
    }
   ],
   "source": [
    "s = \"one million\"\n",
    "s = s.split(' thousand ')\n",
    "s[0] = s[0].split(' million ')\n",
    "s"
   ]
  },
  {
   "cell_type": "code",
   "execution_count": 69,
   "metadata": {},
   "outputs": [],
   "source": [
    "a = {'zero':0, 'one': 1,   'two': 2, 'three': 3, 'four': 4, 'five': 5, 'six': 6, \n",
    "    'seven': 7, 'eight': 8,  'nine': 9,  'ten': 10, 'eleven': 11, \n",
    "    'twelve': 12, 'thirteen': 13, 'fourteen': 14, 'fifteen': 15,\n",
    "    'sixteen': 16, 'seventeen': 17, 'eighteen': 18, 'nineteen': 19,\n",
    "    'twenty': 20, 'thirty': 30,  'forty': 40, 'fifty': 50, 'sixty': 60,\n",
    "    'seventy': 70, 'eighty': 80, 'ninety': 90, \"hundred\":100, \"thousand\": 1000,\n",
    "     \"million\":1000000}\n",
    "def tens(string):\n",
    "    if '-' in string:\n",
    "        string = a[string.split('-')[0]]+ a[string.split('-')[-1]]\n",
    "    else:\n",
    "        string = a[string]\n",
    "    \n",
    "    return string\n",
    "\n",
    "def hundreds(string):\n",
    "    string = string.split(' hundred ')\n",
    "    x = a['hundred']\n",
    "    if len(string) == 1:\n",
    "        if string[0][-8:] == ' hundred':\n",
    "            string[0]= string[0][:-8]\n",
    "            return tens(string[0].split(' ')[0])*100\n",
    "        return tens(string[0])\n",
    "    else:\n",
    "        string[0] = tens(string[0])*x \n",
    "        string[1] = tens(string[1])\n",
    "    return sum(string)\n",
    "\n",
    "\n",
    "def parse_int(string):\n",
    "    s = string.replace(' and ', ' ')\n",
    "    if 'million' in string:\n",
    "        return 1000000\n",
    "    s = s.split(' thousand ')\n",
    "    if len(s)==1:\n",
    "        \n",
    "        if s[0][-8:] == 'thousand':\n",
    "            return hundreds(s[0][:-9])*1000\n",
    "        return hundreds(s[0])\n",
    "    \n",
    "    return hundreds(s[0])*1000 + hundreds(s[1])"
   ]
  },
  {
   "cell_type": "code",
   "execution_count": 70,
   "metadata": {},
   "outputs": [
    {
     "data": {
      "text/plain": [
       "True"
      ]
     },
     "execution_count": 70,
     "metadata": {},
     "output_type": "execute_result"
    }
   ],
   "source": [
    "parse_int('one')==1"
   ]
  },
  {
   "cell_type": "code",
   "execution_count": 71,
   "metadata": {},
   "outputs": [
    {
     "data": {
      "text/plain": [
       "True"
      ]
     },
     "execution_count": 71,
     "metadata": {},
     "output_type": "execute_result"
    }
   ],
   "source": [
    "parse_int('twenty')==20"
   ]
  },
  {
   "cell_type": "code",
   "execution_count": 72,
   "metadata": {},
   "outputs": [
    {
     "data": {
      "text/plain": [
       "True"
      ]
     },
     "execution_count": 72,
     "metadata": {},
     "output_type": "execute_result"
    }
   ],
   "source": [
    "parse_int('two hundred forty-six')== 246"
   ]
  },
  {
   "cell_type": "code",
   "execution_count": 73,
   "metadata": {},
   "outputs": [
    {
     "data": {
      "text/plain": [
       "True"
      ]
     },
     "execution_count": 73,
     "metadata": {},
     "output_type": "execute_result"
    }
   ],
   "source": [
    "parse_int(\"seven hundred eighty-three thousand nine hundred and nineteen\")==783919"
   ]
  },
  {
   "cell_type": "code",
   "execution_count": 74,
   "metadata": {},
   "outputs": [
    {
     "data": {
      "text/plain": [
       "True"
      ]
     },
     "execution_count": 74,
     "metadata": {},
     "output_type": "execute_result"
    }
   ],
   "source": [
    "parse_int('zero')==0"
   ]
  },
  {
   "cell_type": "code",
   "execution_count": 75,
   "metadata": {},
   "outputs": [
    {
     "data": {
      "text/plain": [
       "True"
      ]
     },
     "execution_count": 75,
     "metadata": {},
     "output_type": "execute_result"
    }
   ],
   "source": [
    "parse_int('two hundred')==200"
   ]
  },
  {
   "cell_type": "code",
   "execution_count": 76,
   "metadata": {},
   "outputs": [
    {
     "data": {
      "text/plain": [
       "True"
      ]
     },
     "execution_count": 76,
     "metadata": {},
     "output_type": "execute_result"
    }
   ],
   "source": [
    "parse_int('two thousand')==2000"
   ]
  },
  {
   "cell_type": "code",
   "execution_count": 77,
   "metadata": {},
   "outputs": [
    {
     "data": {
      "text/plain": [
       "35000"
      ]
     },
     "execution_count": 77,
     "metadata": {},
     "output_type": "execute_result"
    }
   ],
   "source": [
    "parse_int('thirty-five thousand')==35000"
   ]
  },
  {
   "cell_type": "code",
   "execution_count": 60,
   "metadata": {},
   "outputs": [
    {
     "data": {
      "text/plain": [
       "' thousand'"
      ]
     },
     "execution_count": 60,
     "metadata": {},
     "output_type": "execute_result"
    }
   ],
   "source": [
    "'two thousand'[-9:]"
   ]
  },
  {
   "cell_type": "code",
   "execution_count": null,
   "metadata": {},
   "outputs": [],
   "source": []
  }
 ],
 "metadata": {
  "kernelspec": {
   "display_name": "Python [conda env:.conda-learn-env] *",
   "language": "python",
   "name": "conda-env-.conda-learn-env-py"
  },
  "language_info": {
   "codemirror_mode": {
    "name": "ipython",
    "version": 3
   },
   "file_extension": ".py",
   "mimetype": "text/x-python",
   "name": "python",
   "nbconvert_exporter": "python",
   "pygments_lexer": "ipython3",
   "version": "3.6.6"
  }
 },
 "nbformat": 4,
 "nbformat_minor": 2
}
