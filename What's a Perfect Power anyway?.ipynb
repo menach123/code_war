{
 "cells": [
  {
   "cell_type": "markdown",
   "metadata": {},
   "source": [
    "### <a href=\"https://www.codewars.com/kata/54d4c8b08776e4ad92000835/train/python\">What's a Perfect Power anyway?</a>\n",
    "\n",
    "A perfect power is a classification of positive integers:\n",
    "\n",
    ">In mathematics, a perfect power is a positive integer that can be expressed as an integer power of another positive integer. More formally, n is a perfect power if there exist natural numbers m > 1, and k > 1 such that m^k = n.\n",
    "\n",
    "Your task is to check wheter a given integer is a perfect power. If it is a perfect power, return a pair m and k with mk = n as a proof. Otherwise return `Nothing`, `Nil`, `null`, `NULL`, `None` or your language's equivalent.\n",
    "\n",
    "**Note**: For a perfect power, there might be several pairs. For example ```81 = 3^4 = 9^2```, so ```(3,4)``` and ```(9,2)``` are valid solutions. However, the tests take care of this, so if a number is a perfect power, return any pair that proves it."
   ]
  },
  {
   "cell_type": "code",
   "execution_count": 9,
   "metadata": {},
   "outputs": [],
   "source": [
    "import numpy as np\n",
    "\n",
    "def isPP(n):\n",
    "    j = n\n",
    "    \n",
    "\n",
    "    for m in range(1, j):\n",
    "        a = np.ones(100)* m\n",
    "         \n",
    "        output = 1\n",
    "        for i in range(100):\n",
    "            output*= a[i]\n",
    "            if output >= n:\n",
    "                j = m\n",
    "                if output == n:\n",
    "                    return [m,i+1]\n",
    "                continue\n",
    "                \n",
    "    return None\n",
    "    "
   ]
  },
  {
   "cell_type": "code",
   "execution_count": 11,
   "metadata": {},
   "outputs": [
    {
     "data": {
      "text/plain": [
       "[2, 2]"
      ]
     },
     "execution_count": 11,
     "metadata": {},
     "output_type": "execute_result"
    }
   ],
   "source": [
    "isPP(4)"
   ]
  },
  {
   "cell_type": "code",
   "execution_count": null,
   "metadata": {},
   "outputs": [],
   "source": []
  }
 ],
 "metadata": {
  "kernelspec": {
   "display_name": "Python 3",
   "language": "python",
   "name": "python3"
  },
  "language_info": {
   "codemirror_mode": {
    "name": "ipython",
    "version": 3
   },
   "file_extension": ".py",
   "mimetype": "text/x-python",
   "name": "python",
   "nbconvert_exporter": "python",
   "pygments_lexer": "ipython3",
   "version": "3.7.4"
  }
 },
 "nbformat": 4,
 "nbformat_minor": 2
}
