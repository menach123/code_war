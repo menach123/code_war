{
 "cells": [
  {
   "cell_type": "markdown",
   "metadata": {},
   "source": [
    "The number 81 has a special property, a certain power of the sum of its digits is equal to 81 (nine squared). Eighty one (81), is the first number in having this property (not considering numbers of one digit). The next one, is 512. Let's see both cases with the details\n",
    "\n",
    "8 + 1 = 9 and 9<sup>2</sup> = 81\n",
    "\n",
    "512 = 5 + 1 + 2 = 8 and 8<sup>3</sup> = 512\n",
    "\n",
    "We need to make a function, power_sumDigTerm(), that receives a number n and may output the n-th term of this sequence of numbers. The cases we presented above means that\n",
    "\n",
    "power_sumDigTerm(1) == 81\n",
    "\n",
    "power_sumDigTerm(2) == 512\n",
    "\n",
    "Happy coding!"
   ]
  },
  {
   "cell_type": "code",
   "execution_count": 65,
   "metadata": {},
   "outputs": [],
   "source": [
    "def power_sumDigTerm(n):\n",
    "    lneght= []\n",
    "    power=1\n",
    "    while len(lneght)< n+ 10:\n",
    "        for i in [i for i in range(1,200) if i == sum([int(j) for j in str(i** power)])][1:]:\n",
    "            print(i, power)\n",
    "            if len(str(i**power)) != 1:\n",
    "                lneght.append(i** power)\n",
    "        power += 1    \n",
    "    return lneght[n-1] # n-th term of the sequence, each term is a power of the sum of its digits"
   ]
  },
  {
   "cell_type": "code",
   "execution_count": 59,
   "metadata": {},
   "outputs": [],
   "source": [
    "n=2\n",
    "\n",
    "x = 1\n",
    "while x != sum([int(i) for i in str(x** (n+1))]) or len(str(x** (n+1))) == 1:\n",
    "    x += 1\n",
    "    \n"
   ]
  },
  {
   "cell_type": "code",
   "execution_count": 60,
   "metadata": {},
   "outputs": [
    {
     "data": {
      "text/plain": [
       "(9, 81)"
      ]
     },
     "execution_count": 60,
     "metadata": {},
     "output_type": "execute_result"
    }
   ],
   "source": [
    "x = 9\n",
    "n = 1\n",
    "sum([int(i) for i in str(x** (n+1))]), x** (n+1)"
   ]
  },
  {
   "cell_type": "code",
   "execution_count": 61,
   "metadata": {},
   "outputs": [
    {
     "data": {
      "text/plain": [
       "True"
      ]
     },
     "execution_count": 61,
     "metadata": {},
     "output_type": "execute_result"
    }
   ],
   "source": [
    "power_sumDigTerm(1) == 81"
   ]
  },
  {
   "cell_type": "code",
   "execution_count": 62,
   "metadata": {},
   "outputs": [
    {
     "data": {
      "text/plain": [
       "True"
      ]
     },
     "execution_count": 62,
     "metadata": {},
     "output_type": "execute_result"
    }
   ],
   "source": [
    "power_sumDigTerm(2) == 512"
   ]
  },
  {
   "cell_type": "code",
   "execution_count": 66,
   "metadata": {},
   "outputs": [
    {
     "name": "stdout",
     "output_type": "stream",
     "text": [
      "2 1\n",
      "3 1\n",
      "4 1\n",
      "5 1\n",
      "6 1\n",
      "7 1\n",
      "8 1\n",
      "9 1\n",
      "9 2\n",
      "8 3\n",
      "17 3\n",
      "18 3\n",
      "26 3\n",
      "27 3\n"
     ]
    },
    {
     "data": {
      "text/plain": [
       "False"
      ]
     },
     "execution_count": 66,
     "metadata": {},
     "output_type": "execute_result"
    }
   ],
   "source": [
    "power_sumDigTerm(3) == 2401"
   ]
  },
  {
   "cell_type": "code",
   "execution_count": 64,
   "metadata": {},
   "outputs": [
    {
     "data": {
      "text/plain": [
       "False"
      ]
     },
     "execution_count": 64,
     "metadata": {},
     "output_type": "execute_result"
    }
   ],
   "source": [
    "power_sumDigTerm(4) == 4913"
   ]
  },
  {
   "cell_type": "code",
   "execution_count": 67,
   "metadata": {},
   "outputs": [
    {
     "data": {
      "text/plain": [
       "2401"
      ]
     },
     "execution_count": 67,
     "metadata": {},
     "output_type": "execute_result"
    }
   ],
   "source": [
    "7**4\n",
    "\n"
   ]
  },
  {
   "cell_type": "code",
   "execution_count": 14,
   "metadata": {},
   "outputs": [
    {
     "data": {
      "text/plain": [
       "False"
      ]
     },
     "execution_count": 14,
     "metadata": {},
     "output_type": "execute_result"
    }
   ],
   "source": [
    "power_sumDigTerm(5) == 5832"
   ]
  },
  {
   "cell_type": "code",
   "execution_count": 80,
   "metadata": {},
   "outputs": [
    {
     "name": "stdout",
     "output_type": "stream",
     "text": [
      "2 1\n",
      "3 1\n",
      "4 1\n",
      "5 1\n",
      "6 1\n",
      "7 1\n",
      "8 1\n",
      "9 1\n",
      "9 2\n",
      "8 3\n",
      "17 3\n",
      "18 3\n",
      "26 3\n",
      "27 3\n",
      "7 4\n",
      "22 4\n",
      "25 4\n",
      "28 4\n",
      "36 4\n",
      "28 5\n",
      "35 5\n",
      "36 5\n",
      "46 5\n"
     ]
    },
    {
     "data": {
      "text/plain": [
       "5832"
      ]
     },
     "execution_count": 80,
     "metadata": {},
     "output_type": "execute_result"
    }
   ],
   "source": [
    "lneght= []\n",
    "n=5\n",
    "power=1\n",
    "\n",
    "while len(lneght)< n+10:\n",
    "    for i in [i for i in range(1,200) if i == sum([int(j) for j in str(i** power)])][1:]:\n",
    "        print(i, power)\n",
    "        if len(str(i**power)) != 1:\n",
    "            lneght.append(i** power)\n",
    "    power += 1\n",
    "sorted(lneght)[n-1]\n"
   ]
  },
  {
   "cell_type": "code",
   "execution_count": 83,
   "metadata": {},
   "outputs": [
    {
     "data": {
      "text/plain": [
       "2401"
      ]
     },
     "execution_count": 83,
     "metadata": {},
     "output_type": "execute_result"
    }
   ],
   "source": [
    "sorted(lneght)[2]"
   ]
  },
  {
   "cell_type": "code",
   "execution_count": 68,
   "metadata": {},
   "outputs": [
    {
     "data": {
      "text/plain": [
       "282475249"
      ]
     },
     "execution_count": 68,
     "metadata": {},
     "output_type": "execute_result"
    }
   ],
   "source": [
    "7**10"
   ]
  },
  {
   "cell_type": "code",
   "execution_count": 75,
   "metadata": {},
   "outputs": [],
   "source": [
    "lneght= []\n",
    "n=5\n",
    "x = 1\n",
    "while len(lneght)< n:\n",
    "    for i in [x**i for i in range(1,100) if x == sum([int(j) for j in str(x**i)])]:\n",
    "        if len(str(i)) != 1:\n",
    "            lneght.append(i)\n",
    "    x += 1"
   ]
  },
  {
   "cell_type": "code",
   "execution_count": 77,
   "metadata": {},
   "outputs": [
    {
     "data": {
      "text/plain": [
       "[2401, 512, 81, 4913, 5832, 34012224, 612220032]"
      ]
     },
     "execution_count": 77,
     "metadata": {},
     "output_type": "execute_result"
    }
   ],
   "source": [
    "lneght"
   ]
  },
  {
   "cell_type": "code",
   "execution_count": null,
   "metadata": {},
   "outputs": [],
   "source": []
  }
 ],
 "metadata": {
  "kernelspec": {
   "display_name": "Python [conda env:.conda-learn-env] *",
   "language": "python",
   "name": "conda-env-.conda-learn-env-py"
  },
  "language_info": {
   "codemirror_mode": {
    "name": "ipython",
    "version": 3
   },
   "file_extension": ".py",
   "mimetype": "text/x-python",
   "name": "python",
   "nbconvert_exporter": "python",
   "pygments_lexer": "ipython3",
   "version": "3.6.6"
  }
 },
 "nbformat": 4,
 "nbformat_minor": 2
}
